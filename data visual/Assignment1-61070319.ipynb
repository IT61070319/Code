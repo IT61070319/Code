{
 "cells": [
  {
   "cell_type": "markdown",
   "metadata": {},
   "source": [
    "# จัดทำโดย นายโรจนัสถ์ รอดรุ่งเรือง 61070319"
   ]
  },
  {
   "cell_type": "markdown",
   "metadata": {},
   "source": [
    "# Task 1: อธิบายที่มาของapiทั้งหมดที่ใช้"
   ]
  },
  {
   "cell_type": "markdown",
   "metadata": {},
   "source": [
    "ข้อมูลที่นำมาใช้มาจากเว็บ https://edw-opendata.moi.go.th/api/request/list โดยนำข้อมูลด้านประชากรศาสตร์ประชากรและเคหะมา,ด้านแรงงาน,ด้านสุขภาพมาใช้โดยนำมาวิเคราะห์เกี่ยวกับประชากรในสังคมของไทยว่าตอนนี้สังคมของไทยเป็นลักษณะแบบไหนโดยข้อมูลมาใช้ในการวิเคราะห์ดังนี้.\n",
    "\n",
    "   -<b>ข้อมูลสถิติการจดทะเบียนสมรส จำแนกตามภาค จังหวัด พ.ศ. 2554 - 2561</b>.\n",
    "   \n",
    "   :http://edw-opendata.moi.go.th/services/api/V_ODS_POPULATION_MARRIAGE.\n",
    "   \n",
    "   -<b>สถิติการจดทะเบียนหย่า จำแนกตามภาค และจังหวัด พ.ศ. 2554 - 2561</b>.\n",
    "   \n",
    "   :http://edw-opendata.moi.go.th/services/api/V_ODS_POPULATION_DIVORCE.\n",
    "         \n",
    "   -<b>จำนวนและสัดส่วนประชากรจากการทะเบียนจำแนกตามกลุ่มอายุ(วัยเด็ก,วัยแรงงาน,วัยสูงอายุ)และเพศ พ.ศ. 2554 - 2561</b>.\n",
    "   \n",
    "   :http://edw-opendata.moi.go.th/services/api/V_ODS_POPULATION_AGE_GROUP . \n",
    "         \n",
    "   -<b>จำนวนผู้มีงานทำที่อยู่ในแรงงานในระบบและนอกระบบ จำแนกตามกลุ่มอายุ เพศ เป็นรายภาค และจังหวัด พ.ศ. 2554- 2561</b>.\n",
    "   \n",
    "   :http://edw-opendata.moi.go.th/services/api/V_ODS_LABOUR_FORMAL_AND_INFORMAL_EMPLOYMENT.\n",
    "         \n",
    "   -<b>จำนวนการเกิดมีชีพทั้งหมดและการเกิดมีชีพในโรงพยาบาลของรัฐจำแนกตามภาคและจังหวัด พ.ศ. 2554 - 2561</b>.\n",
    "   \n",
    "   :http://edw-opendata.moi.go.th/services/api/V_ODS_HEALTH_LIVEBIRTHS.\n",
    "         \n",
    "   -<b>จำนวนการตายทั้งหมดและการตายในโรงพยาบาลจำแนกเป็นรายภาคและจังหวัด พ.ศ. 2554 - 2561</b>.\n",
    "   \n",
    "   :http://edw-opendata.moi.go.th/services/api/V_ODS_HEALTH_DEATHS.\n",
    "        \n",
    "     "
   ]
  },
  {
   "cell_type": "markdown",
   "metadata": {},
   "source": [
    "## เป็นการติดตั้ง urllib3 requests "
   ]
  },
  {
   "cell_type": "code",
   "execution_count": 1,
   "metadata": {
    "id": "_7lrPHSiHS1z",
    "outputId": "b07b61d0-56a0-4c8b-aaee-b7384e4ee4a0"
   },
   "outputs": [
    {
     "name": "stdout",
     "output_type": "stream",
     "text": [
      "Requirement already satisfied: urllib3 in /Users/kontup/opt/anaconda3/lib/python3.8/site-packages (1.25.9)\n",
      "Requirement already satisfied: requests in /Users/kontup/opt/anaconda3/lib/python3.8/site-packages (2.24.0)\n",
      "Requirement already satisfied: certifi>=2017.4.17 in /Users/kontup/opt/anaconda3/lib/python3.8/site-packages (from requests) (2020.6.20)\n",
      "Requirement already satisfied: chardet<4,>=3.0.2 in /Users/kontup/opt/anaconda3/lib/python3.8/site-packages (from requests) (3.0.4)\n",
      "Requirement already satisfied: idna<3,>=2.5 in /Users/kontup/opt/anaconda3/lib/python3.8/site-packages (from requests) (2.10)\n",
      "Requirement already up-to-date: certifi in /Users/kontup/opt/anaconda3/lib/python3.8/site-packages (2020.6.20)\n"
     ]
    }
   ],
   "source": [
    "!pip install urllib3 requests\n",
    "!pip install --upgrade certifi"
   ]
  },
  {
   "cell_type": "markdown",
   "metadata": {
    "id": "QxEyWaAYHS15"
   },
   "source": [
    "## การimport Packages ที่ใช้ทั้งหมด"
   ]
  },
  {
   "cell_type": "code",
   "execution_count": 2,
   "metadata": {
    "id": "r4y0LrIKHS17"
   },
   "outputs": [],
   "source": [
    "import urllib\n",
    "import urllib.request\n",
    "import json \n",
    "import requests\n",
    "import pandas as pd\n",
    "import numpy as np\n",
    "import matplotlib\n",
    "import matplotlib.pyplot as plt\n",
    "%matplotlib inline"
   ]
  },
  {
   "cell_type": "markdown",
   "metadata": {
    "id": "k20eIqDMHS16"
   },
   "source": [
    "## Body api ที่ใช้ในการส่งร้องขอข้อมูล"
   ]
  },
  {
   "cell_type": "code",
   "execution_count": 3,
   "metadata": {
    "id": "tbwd4ePyHS1_"
   },
   "outputs": [],
   "source": [
    "body={'user_type': 'ประชาชน', 'user_name': 'โรจนัสถ์ รอดรุ่งเรือง', 'user_use':1}"
   ]
  },
  {
   "cell_type": "markdown",
   "metadata": {},
   "source": [
    "# Task2 ส่วนในการสร้างFunctionในการดึกข้อมูลapi เเละ นำข้อมูล saveเป็นfile.json"
   ]
  },
  {
   "cell_type": "code",
   "execution_count": 70,
   "metadata": {
    "colab": {
     "base_uri": "https://localhost:8080/",
     "height": 317
    },
    "executionInfo": {
     "elapsed": 1134,
     "status": "error",
     "timestamp": 1601555020481,
     "user": {
      "displayName": "ROJCHANUT RODROONGRUANG",
      "photoUrl": "",
      "userId": "08795561081287100656"
     },
     "user_tz": -420
    },
    "id": "BWn3CaH_HS2D",
    "outputId": "cac25ec1-96b0-4513-f445-4e08f50cd461",
    "scrolled": false
   },
   "outputs": [],
   "source": [
    "def create_file(data,name_file):#เป็นfunctionในการsaveข้อมูลจากapi ที่ดึงมาเป็นfile.json \n",
    "    with open('data/'+name_file+'.json','w') as file:#เป็นการกำหนดว่าจะเขียนข้อมูลลงไปในfile json ที่ชื่อว่าอะไร\n",
    "        print('create '+'data/'+name_file+'.json ' + 'Completed')\n",
    "        return (json.dump(data, file,ensure_ascii=False,indent = 4, sort_keys=True))#เป็นการนำข้อมูลที่ได้เขียนลงไปในfile\n",
    "    \n",
    "def api(api_link,name_file,list_column):#เป็น Function ในการดึงapi\n",
    "    lis = []#เป็น listในการเก็บรวบรวมข้อมูลapi ทั้งหมดเอาไว้เพื่อใช้เตรียมการในการนำไปเขียนลงในfile\n",
    "    url = api_link+'?page=1'#เป็นurlของapiโดยที่จะมีการfilterข้อมูลมาที่ละหน้าโดยอันนี้จะเป็นหน้า2ของข้อมูลเป็นต้นไป\n",
    "    response = requests.post(url=url,data=body)#เป็นการresponseแบบpostเพื่อขอข้อมูลจากเว็บ\n",
    "    pastebin_url = response.text#เป็นการแปลงข้อมูลที่ดึงมาให้เป็นชนิด text\n",
    "    data=json.loads(pastebin_url[4:])#เป็นการแปลงข้อมูลจากtext ไปเป็นข้อมูล jsonโดยที่[4:]คือเป็นการลบTRUEหน้าข้อมูลออก\n",
    "    for p in range(data['data_object'][\"last_page\"]+1):#เป็นการloop ข้อมูลในapi\n",
    "        if p >= 1:#เป็นการกำหนดเงื่อนไขของหน้าว่าเอาตั้งแต่หน้าที่หนึ่งเป็นต้นไป\n",
    "            url = api_link+'?page='+str(p)#เป็นurlของapiโดยที่จะมีการfilterข้อมูลมาที่ละหน้าโดยอันนี้จะเป็นหน้า2ของข้อมูลเป็นต้นไป\n",
    "            response = requests.post(url=url,data=body)#เป็นการresponseแบบpostเพื่อขอข้อมูลจากเว็บ\n",
    "            pastebin_url = response.text#เป็นการแปลงข้อมูลที่ดึงมาให้เป็นชนิด text\n",
    "            data=json.loads(pastebin_url[4:])#เป็นการแปลงข้อมูลจากtext ไปเป็นข้อมูล jsonโดยที่[4:]คือเป็นการลบTRUEหน้าข้อมูลออก\n",
    "            for d in data['data_object']['data']:#จะเป็นการวนloopข้อมูลที่ละ row ไปเก็บไว้ในlistในรูปแบบของdict\n",
    "                dict_data = {}#การกำหนด dict ที่เก็บข้อมูล\n",
    "                for dic in range(len(list_column)):# loop ที่นำข้อมูลมาเก็บในรูปแบบdictโดยที่จะมีการเอาแค่cloumn ที่เอา\n",
    "                    dict_data[list_column[dic]] = d[list_column[dic]]#เป็นการนำข้อมูลที่ดึงมาไปเพิ่มลงไปในdict data\n",
    "                lis.append(dict_data)#นำข้อมูลทั้งหมดในdict ไปเก็บในlistของข้อมูลที่จะนำไปเขียนลงfile\n",
    "    print('load Data Completed')\n",
    "    create_file(lis,name_file)#เป็นการส่งข้อมูลไปยังFunction สร้าง file.json\n"
   ]
  },
  {
   "cell_type": "markdown",
   "metadata": {
    "id": "AMshC7RjHS2H"
   },
   "source": [
    "# Task3 เป็นการนำlink api มาใส่เเล้วแปลงเป็นfile.Json."
   ]
  },
  {
   "cell_type": "code",
   "execution_count": 72,
   "metadata": {
    "id": "lZZxSTIhHS2I"
   },
   "outputs": [
    {
     "name": "stdout",
     "output_type": "stream",
     "text": [
      "load Data Completed\n",
      "create data/DIVORCE.json Completed\n"
     ]
    }
   ],
   "source": [
    "list_api='http://edw-opendata.moi.go.th/services/api/V_ODS_POPULATION_DIVORCE'#เป็นlink api\n",
    "list_name='DIVORCE'#เป็นการตั้งชื่อfile name\n",
    "list_column = ['year','region_name_th','province_name_th','divorce_total']#เป็นการเลือกเอาcloumnที่จะเอามาใช้\n",
    "api(list_api,list_name,list_column)\n"
   ]
  },
  {
   "cell_type": "code",
   "execution_count": 52,
   "metadata": {},
   "outputs": [
    {
     "name": "stdout",
     "output_type": "stream",
     "text": [
      "load Data Completed\n",
      "create data/MARRIAGE.json Completed\n"
     ]
    }
   ],
   "source": [
    "list_api='http://edw-opendata.moi.go.th/services/api/V_ODS_POPULATION_MARRIAGE'#เป็นlink api\n",
    "list_name= 'MARRIAGE'#เป็นการตั้งชื่อfile name\n",
    "list_column = ['year','region_name_th','province_name_th','marriage_total']#เป็นการเลือกเอาcloumnที่จะเอามาใช้\n",
    "api(list_api,list_name,list_column)"
   ]
  },
  {
   "cell_type": "code",
   "execution_count": 51,
   "metadata": {},
   "outputs": [
    {
     "name": "stdout",
     "output_type": "stream",
     "text": [
      "load Data Completed\n",
      "create data/AGE_GROUP.json Completed\n"
     ]
    }
   ],
   "source": [
    "list_api='http://edw-opendata.moi.go.th/services/api/V_ODS_POPULATION_AGE_GROUP'#เป็นlink api\n",
    "list_name= 'AGE_GROUP'#เป็นการตั้งชื่อfile name\n",
    "list_column = ['year','region_name_th','province_name_th',\"age_group_desc_th\",'population_total',\"gender_name\"]\n",
    "api(list_api,list_name,list_column)\n"
   ]
  },
  {
   "cell_type": "code",
   "execution_count": 50,
   "metadata": {},
   "outputs": [
    {
     "name": "stdout",
     "output_type": "stream",
     "text": [
      "load Data Completed\n",
      "create data/INFORMAL_EMPLOYMENT.json Completed\n"
     ]
    }
   ],
   "source": [
    "list_api='http://edw-opendata.moi.go.th/services/api/V_ODS_LABOUR_FORMAL_AND_INFORMAL_EMPLOYMENT'#เป็นlink api\n",
    "list_name= 'INFORMAL_EMPLOYMENT'#เป็นการตั้งชื่อfile name\n",
    "list_column = ['year','region_name_th','province_name_th',\n",
    "               \"age_group_desc_th\",'labour_total',\"gender_name_th\"]#เป็นการเลือกเอาcloumnที่จะเอามาใช้\n",
    "api(list_api,list_name,list_column)\n"
   ]
  },
  {
   "cell_type": "code",
   "execution_count": 49,
   "metadata": {},
   "outputs": [
    {
     "name": "stdout",
     "output_type": "stream",
     "text": [
      "load Data Completed\n",
      "create data/LIVE.json Completed\n"
     ]
    }
   ],
   "source": [
    "list_api='http://edw-opendata.moi.go.th/services/api/V_ODS_HEALTH_LIVEBIRTHS'#เป็นlink api\n",
    "list_name= 'LIVE'#เป็นการตั้งชื่อfile name\n",
    "list_column = ['year','region_name_th','province_name_th','birth_death_type_desc_th','births_total']#เป็นการเลือกเอาcloumnที่จะเอามาใช้\n",
    "api(list_api,list_name,list_column)\n"
   ]
  },
  {
   "cell_type": "code",
   "execution_count": 48,
   "metadata": {},
   "outputs": [
    {
     "name": "stdout",
     "output_type": "stream",
     "text": [
      "load Data Completed\n",
      "create data/DEATHS.json Completed\n"
     ]
    }
   ],
   "source": [
    "list_api='http://edw-opendata.moi.go.th/services/api/V_ODS_HEALTH_DEATHS'#เป็นlink api\n",
    "list_name= 'DEATHS'#เป็นการตั้งชื่อfile name\n",
    "list_column = ['year','region_name_th',\"province_name_th\",'birth_death_type_desc_th','deaths_total']#เป็นการเลือกเอาcloumnที่จะเอามาใช้\n",
    "api(list_api,list_name,list_column)\n"
   ]
  },
  {
   "cell_type": "markdown",
   "metadata": {
    "id": "KPE8XfrfHS2K"
   },
   "source": [
    "## Task 4: เป็นการโหลดข้อมูลเเล้วนำมาเเสดง Dataframe , cleaning , combine the data and filter"
   ]
  },
  {
   "cell_type": "markdown",
   "metadata": {},
   "source": [
    "## create Dataframe"
   ]
  },
  {
   "cell_type": "code",
   "execution_count": 73,
   "metadata": {
    "id": "sCwGC_XDHS2M",
    "outputId": "ee8e88d2-6a23-446f-d3c1-c279159dc575",
    "scrolled": false
   },
   "outputs": [
    {
     "data": {
      "text/html": [
       "<div>\n",
       "<style scoped>\n",
       "    .dataframe tbody tr th:only-of-type {\n",
       "        vertical-align: middle;\n",
       "    }\n",
       "\n",
       "    .dataframe tbody tr th {\n",
       "        vertical-align: top;\n",
       "    }\n",
       "\n",
       "    .dataframe thead th {\n",
       "        text-align: right;\n",
       "    }\n",
       "</style>\n",
       "<table border=\"1\" class=\"dataframe\">\n",
       "  <thead>\n",
       "    <tr style=\"text-align: right;\">\n",
       "      <th></th>\n",
       "      <th>divorce_total</th>\n",
       "      <th>province_name_th</th>\n",
       "      <th>region_name_th</th>\n",
       "      <th>year</th>\n",
       "    </tr>\n",
       "  </thead>\n",
       "  <tbody>\n",
       "    <tr>\n",
       "      <th>0</th>\n",
       "      <td>15919.0</td>\n",
       "      <td>กรุงเทพมหานคร</td>\n",
       "      <td>ภาคกลาง</td>\n",
       "      <td>2553</td>\n",
       "    </tr>\n",
       "    <tr>\n",
       "      <th>1</th>\n",
       "      <td>15919.0</td>\n",
       "      <td>กรุงเทพมหานคร</td>\n",
       "      <td>ภาคกลาง</td>\n",
       "      <td>2553</td>\n",
       "    </tr>\n",
       "    <tr>\n",
       "      <th>2</th>\n",
       "      <td>3325.0</td>\n",
       "      <td>สมุทรปราการ</td>\n",
       "      <td>ภาคกลาง</td>\n",
       "      <td>2553</td>\n",
       "    </tr>\n",
       "    <tr>\n",
       "      <th>3</th>\n",
       "      <td>3325.0</td>\n",
       "      <td>สมุทรปราการ</td>\n",
       "      <td>ภาคกลาง</td>\n",
       "      <td>2553</td>\n",
       "    </tr>\n",
       "    <tr>\n",
       "      <th>4</th>\n",
       "      <td>2134.0</td>\n",
       "      <td>นนทบุรี</td>\n",
       "      <td>ภาคกลาง</td>\n",
       "      <td>2553</td>\n",
       "    </tr>\n",
       "    <tr>\n",
       "      <th>...</th>\n",
       "      <td>...</td>\n",
       "      <td>...</td>\n",
       "      <td>...</td>\n",
       "      <td>...</td>\n",
       "    </tr>\n",
       "    <tr>\n",
       "      <th>1535</th>\n",
       "      <td>360.0</td>\n",
       "      <td>ปัตตานี</td>\n",
       "      <td>ภาคใต้ชายแดน</td>\n",
       "      <td>2562</td>\n",
       "    </tr>\n",
       "    <tr>\n",
       "      <th>1536</th>\n",
       "      <td>411.0</td>\n",
       "      <td>ยะลา</td>\n",
       "      <td>ภาคใต้ชายแดน</td>\n",
       "      <td>2562</td>\n",
       "    </tr>\n",
       "    <tr>\n",
       "      <th>1537</th>\n",
       "      <td>411.0</td>\n",
       "      <td>ยะลา</td>\n",
       "      <td>ภาคใต้ชายแดน</td>\n",
       "      <td>2562</td>\n",
       "    </tr>\n",
       "    <tr>\n",
       "      <th>1538</th>\n",
       "      <td>380.0</td>\n",
       "      <td>นราธิวาส</td>\n",
       "      <td>ภาคใต้ชายแดน</td>\n",
       "      <td>2562</td>\n",
       "    </tr>\n",
       "    <tr>\n",
       "      <th>1539</th>\n",
       "      <td>380.0</td>\n",
       "      <td>นราธิวาส</td>\n",
       "      <td>ภาคใต้ชายแดน</td>\n",
       "      <td>2562</td>\n",
       "    </tr>\n",
       "  </tbody>\n",
       "</table>\n",
       "<p>1540 rows × 4 columns</p>\n",
       "</div>"
      ],
      "text/plain": [
       "      divorce_total province_name_th region_name_th  year\n",
       "0           15919.0    กรุงเทพมหานคร        ภาคกลาง  2553\n",
       "1           15919.0    กรุงเทพมหานคร        ภาคกลาง  2553\n",
       "2            3325.0      สมุทรปราการ        ภาคกลาง  2553\n",
       "3            3325.0      สมุทรปราการ        ภาคกลาง  2553\n",
       "4            2134.0          นนทบุรี        ภาคกลาง  2553\n",
       "...             ...              ...            ...   ...\n",
       "1535          360.0          ปัตตานี   ภาคใต้ชายแดน  2562\n",
       "1536          411.0             ยะลา   ภาคใต้ชายแดน  2562\n",
       "1537          411.0             ยะลา   ภาคใต้ชายแดน  2562\n",
       "1538          380.0         นราธิวาส   ภาคใต้ชายแดน  2562\n",
       "1539          380.0         นราธิวาส   ภาคใต้ชายแดน  2562\n",
       "\n",
       "[1540 rows x 4 columns]"
      ]
     },
     "execution_count": 73,
     "metadata": {},
     "output_type": "execute_result"
    }
   ],
   "source": [
    "df_DIVORCE = pd.read_json('data/DIVORCE.json')\n",
    "df_DIVORCE"
   ]
  },
  {
   "cell_type": "code",
   "execution_count": 6,
   "metadata": {
    "id": "7vz4gFzgHS2O",
    "outputId": "404e63d7-4f6b-47d3-83b0-f1cc3ac373c9",
    "scrolled": false
   },
   "outputs": [
    {
     "data": {
      "text/html": [
       "<div>\n",
       "<style scoped>\n",
       "    .dataframe tbody tr th:only-of-type {\n",
       "        vertical-align: middle;\n",
       "    }\n",
       "\n",
       "    .dataframe tbody tr th {\n",
       "        vertical-align: top;\n",
       "    }\n",
       "\n",
       "    .dataframe thead th {\n",
       "        text-align: right;\n",
       "    }\n",
       "</style>\n",
       "<table border=\"1\" class=\"dataframe\">\n",
       "  <thead>\n",
       "    <tr style=\"text-align: right;\">\n",
       "      <th></th>\n",
       "      <th>marriage_total</th>\n",
       "      <th>province_name_th</th>\n",
       "      <th>region_name_th</th>\n",
       "      <th>year</th>\n",
       "    </tr>\n",
       "  </thead>\n",
       "  <tbody>\n",
       "    <tr>\n",
       "      <th>0</th>\n",
       "      <td>39648.0</td>\n",
       "      <td>กรุงเทพมหานคร</td>\n",
       "      <td>ภาคกลาง</td>\n",
       "      <td>2553</td>\n",
       "    </tr>\n",
       "    <tr>\n",
       "      <th>1</th>\n",
       "      <td>39648.0</td>\n",
       "      <td>กรุงเทพมหานคร</td>\n",
       "      <td>ภาคกลาง</td>\n",
       "      <td>2553</td>\n",
       "    </tr>\n",
       "    <tr>\n",
       "      <th>2</th>\n",
       "      <td>7371.0</td>\n",
       "      <td>สมุทรปราการ</td>\n",
       "      <td>ภาคกลาง</td>\n",
       "      <td>2553</td>\n",
       "    </tr>\n",
       "    <tr>\n",
       "      <th>3</th>\n",
       "      <td>7371.0</td>\n",
       "      <td>สมุทรปราการ</td>\n",
       "      <td>ภาคกลาง</td>\n",
       "      <td>2553</td>\n",
       "    </tr>\n",
       "    <tr>\n",
       "      <th>4</th>\n",
       "      <td>5076.0</td>\n",
       "      <td>นนทบุรี</td>\n",
       "      <td>ภาคกลาง</td>\n",
       "      <td>2553</td>\n",
       "    </tr>\n",
       "    <tr>\n",
       "      <th>...</th>\n",
       "      <td>...</td>\n",
       "      <td>...</td>\n",
       "      <td>...</td>\n",
       "      <td>...</td>\n",
       "    </tr>\n",
       "    <tr>\n",
       "      <th>1535</th>\n",
       "      <td>2930.0</td>\n",
       "      <td>ปัตตานี</td>\n",
       "      <td>ภาคใต้ชายแดน</td>\n",
       "      <td>2562</td>\n",
       "    </tr>\n",
       "    <tr>\n",
       "      <th>1536</th>\n",
       "      <td>2109.0</td>\n",
       "      <td>ยะลา</td>\n",
       "      <td>ภาคใต้ชายแดน</td>\n",
       "      <td>2562</td>\n",
       "    </tr>\n",
       "    <tr>\n",
       "      <th>1537</th>\n",
       "      <td>2109.0</td>\n",
       "      <td>ยะลา</td>\n",
       "      <td>ภาคใต้ชายแดน</td>\n",
       "      <td>2562</td>\n",
       "    </tr>\n",
       "    <tr>\n",
       "      <th>1538</th>\n",
       "      <td>2777.0</td>\n",
       "      <td>นราธิวาส</td>\n",
       "      <td>ภาคใต้ชายแดน</td>\n",
       "      <td>2562</td>\n",
       "    </tr>\n",
       "    <tr>\n",
       "      <th>1539</th>\n",
       "      <td>2777.0</td>\n",
       "      <td>นราธิวาส</td>\n",
       "      <td>ภาคใต้ชายแดน</td>\n",
       "      <td>2562</td>\n",
       "    </tr>\n",
       "  </tbody>\n",
       "</table>\n",
       "<p>1540 rows × 4 columns</p>\n",
       "</div>"
      ],
      "text/plain": [
       "      marriage_total province_name_th region_name_th  year\n",
       "0            39648.0    กรุงเทพมหานคร        ภาคกลาง  2553\n",
       "1            39648.0    กรุงเทพมหานคร        ภาคกลาง  2553\n",
       "2             7371.0      สมุทรปราการ        ภาคกลาง  2553\n",
       "3             7371.0      สมุทรปราการ        ภาคกลาง  2553\n",
       "4             5076.0          นนทบุรี        ภาคกลาง  2553\n",
       "...              ...              ...            ...   ...\n",
       "1535          2930.0          ปัตตานี   ภาคใต้ชายแดน  2562\n",
       "1536          2109.0             ยะลา   ภาคใต้ชายแดน  2562\n",
       "1537          2109.0             ยะลา   ภาคใต้ชายแดน  2562\n",
       "1538          2777.0         นราธิวาส   ภาคใต้ชายแดน  2562\n",
       "1539          2777.0         นราธิวาส   ภาคใต้ชายแดน  2562\n",
       "\n",
       "[1540 rows x 4 columns]"
      ]
     },
     "execution_count": 6,
     "metadata": {},
     "output_type": "execute_result"
    }
   ],
   "source": [
    "df_MARRIAGE =pd.read_json('data/MARRIAGE.json')\n",
    "df_MARRIAGE"
   ]
  },
  {
   "cell_type": "code",
   "execution_count": 7,
   "metadata": {
    "id": "51gP-G74HS2Q",
    "outputId": "52590be5-843d-4afd-957a-a73d6b1b8e0f",
    "scrolled": false
   },
   "outputs": [
    {
     "data": {
      "text/html": [
       "<div>\n",
       "<style scoped>\n",
       "    .dataframe tbody tr th:only-of-type {\n",
       "        vertical-align: middle;\n",
       "    }\n",
       "\n",
       "    .dataframe tbody tr th {\n",
       "        vertical-align: top;\n",
       "    }\n",
       "\n",
       "    .dataframe thead th {\n",
       "        text-align: right;\n",
       "    }\n",
       "</style>\n",
       "<table border=\"1\" class=\"dataframe\">\n",
       "  <thead>\n",
       "    <tr style=\"text-align: right;\">\n",
       "      <th></th>\n",
       "      <th>age_group_desc_th</th>\n",
       "      <th>gender_name</th>\n",
       "      <th>population_total</th>\n",
       "      <th>province_name_th</th>\n",
       "      <th>region_name_th</th>\n",
       "      <th>year</th>\n",
       "    </tr>\n",
       "  </thead>\n",
       "  <tbody>\n",
       "    <tr>\n",
       "      <th>0</th>\n",
       "      <td>วัยเด็ก (0-14 ปี)</td>\n",
       "      <td>ชาย</td>\n",
       "      <td>1016550.0</td>\n",
       "      <td>กรุงเทพมหานคร</td>\n",
       "      <td>ภาคกลาง</td>\n",
       "      <td>2553</td>\n",
       "    </tr>\n",
       "    <tr>\n",
       "      <th>1</th>\n",
       "      <td>วัยแรงงาน (15-59 ปี)</td>\n",
       "      <td>ชาย</td>\n",
       "      <td>3624128.0</td>\n",
       "      <td>กรุงเทพมหานคร</td>\n",
       "      <td>ภาคกลาง</td>\n",
       "      <td>2553</td>\n",
       "    </tr>\n",
       "    <tr>\n",
       "      <th>2</th>\n",
       "      <td>วัยสูงอายุ (60 ปีขึ้นไป)</td>\n",
       "      <td>ชาย</td>\n",
       "      <td>582352.0</td>\n",
       "      <td>กรุงเทพมหานคร</td>\n",
       "      <td>ภาคกลาง</td>\n",
       "      <td>2553</td>\n",
       "    </tr>\n",
       "    <tr>\n",
       "      <th>3</th>\n",
       "      <td>จำแนกอายุไม่ได้</td>\n",
       "      <td>ชาย</td>\n",
       "      <td>196106.0</td>\n",
       "      <td>กรุงเทพมหานคร</td>\n",
       "      <td>ภาคกลาง</td>\n",
       "      <td>2553</td>\n",
       "    </tr>\n",
       "    <tr>\n",
       "      <th>4</th>\n",
       "      <td>วัยเด็ก (0-14 ปี)</td>\n",
       "      <td>หญิง</td>\n",
       "      <td>969400.0</td>\n",
       "      <td>กรุงเทพมหานคร</td>\n",
       "      <td>ภาคกลาง</td>\n",
       "      <td>2553</td>\n",
       "    </tr>\n",
       "    <tr>\n",
       "      <th>...</th>\n",
       "      <td>...</td>\n",
       "      <td>...</td>\n",
       "      <td>...</td>\n",
       "      <td>...</td>\n",
       "      <td>...</td>\n",
       "      <td>...</td>\n",
       "    </tr>\n",
       "    <tr>\n",
       "      <th>6155</th>\n",
       "      <td>จำแนกอายุไม่ได้</td>\n",
       "      <td>ชาย</td>\n",
       "      <td>13816.0</td>\n",
       "      <td>นราธิวาส</td>\n",
       "      <td>ภาคใต้ชายแดน</td>\n",
       "      <td>2562</td>\n",
       "    </tr>\n",
       "    <tr>\n",
       "      <th>6156</th>\n",
       "      <td>วัยเด็ก (0-14 ปี)</td>\n",
       "      <td>หญิง</td>\n",
       "      <td>194326.0</td>\n",
       "      <td>นราธิวาส</td>\n",
       "      <td>ภาคใต้ชายแดน</td>\n",
       "      <td>2562</td>\n",
       "    </tr>\n",
       "    <tr>\n",
       "      <th>6157</th>\n",
       "      <td>วัยแรงงาน (15-59 ปี)</td>\n",
       "      <td>หญิง</td>\n",
       "      <td>507950.0</td>\n",
       "      <td>นราธิวาส</td>\n",
       "      <td>ภาคใต้ชายแดน</td>\n",
       "      <td>2562</td>\n",
       "    </tr>\n",
       "    <tr>\n",
       "      <th>6158</th>\n",
       "      <td>วัยสูงอายุ (60 ปีขึ้นไป)</td>\n",
       "      <td>หญิง</td>\n",
       "      <td>101348.0</td>\n",
       "      <td>นราธิวาส</td>\n",
       "      <td>ภาคใต้ชายแดน</td>\n",
       "      <td>2562</td>\n",
       "    </tr>\n",
       "    <tr>\n",
       "      <th>6159</th>\n",
       "      <td>จำแนกอายุไม่ได้</td>\n",
       "      <td>หญิง</td>\n",
       "      <td>12382.0</td>\n",
       "      <td>นราธิวาส</td>\n",
       "      <td>ภาคใต้ชายแดน</td>\n",
       "      <td>2562</td>\n",
       "    </tr>\n",
       "  </tbody>\n",
       "</table>\n",
       "<p>6160 rows × 6 columns</p>\n",
       "</div>"
      ],
      "text/plain": [
       "             age_group_desc_th gender_name  population_total province_name_th  \\\n",
       "0            วัยเด็ก (0-14 ปี)         ชาย         1016550.0    กรุงเทพมหานคร   \n",
       "1         วัยแรงงาน (15-59 ปี)         ชาย         3624128.0    กรุงเทพมหานคร   \n",
       "2     วัยสูงอายุ (60 ปีขึ้นไป)         ชาย          582352.0    กรุงเทพมหานคร   \n",
       "3              จำแนกอายุไม่ได้         ชาย          196106.0    กรุงเทพมหานคร   \n",
       "4            วัยเด็ก (0-14 ปี)        หญิง          969400.0    กรุงเทพมหานคร   \n",
       "...                        ...         ...               ...              ...   \n",
       "6155           จำแนกอายุไม่ได้         ชาย           13816.0         นราธิวาส   \n",
       "6156         วัยเด็ก (0-14 ปี)        หญิง          194326.0         นราธิวาส   \n",
       "6157      วัยแรงงาน (15-59 ปี)        หญิง          507950.0         นราธิวาส   \n",
       "6158  วัยสูงอายุ (60 ปีขึ้นไป)        หญิง          101348.0         นราธิวาส   \n",
       "6159           จำแนกอายุไม่ได้        หญิง           12382.0         นราธิวาส   \n",
       "\n",
       "     region_name_th  year  \n",
       "0           ภาคกลาง  2553  \n",
       "1           ภาคกลาง  2553  \n",
       "2           ภาคกลาง  2553  \n",
       "3           ภาคกลาง  2553  \n",
       "4           ภาคกลาง  2553  \n",
       "...             ...   ...  \n",
       "6155   ภาคใต้ชายแดน  2562  \n",
       "6156   ภาคใต้ชายแดน  2562  \n",
       "6157   ภาคใต้ชายแดน  2562  \n",
       "6158   ภาคใต้ชายแดน  2562  \n",
       "6159   ภาคใต้ชายแดน  2562  \n",
       "\n",
       "[6160 rows x 6 columns]"
      ]
     },
     "execution_count": 7,
     "metadata": {},
     "output_type": "execute_result"
    }
   ],
   "source": [
    "df_AGE_GROUP =pd.read_json('data/AGE_GROUP.json')\n",
    "df_AGE_GROUP"
   ]
  },
  {
   "cell_type": "code",
   "execution_count": 8,
   "metadata": {
    "id": "rcoBK3RkHS2S",
    "outputId": "e7d419c9-d40c-40a4-a9a2-677e0ed90582",
    "scrolled": false
   },
   "outputs": [
    {
     "data": {
      "text/html": [
       "<div>\n",
       "<style scoped>\n",
       "    .dataframe tbody tr th:only-of-type {\n",
       "        vertical-align: middle;\n",
       "    }\n",
       "\n",
       "    .dataframe tbody tr th {\n",
       "        vertical-align: top;\n",
       "    }\n",
       "\n",
       "    .dataframe thead th {\n",
       "        text-align: right;\n",
       "    }\n",
       "</style>\n",
       "<table border=\"1\" class=\"dataframe\">\n",
       "  <thead>\n",
       "    <tr style=\"text-align: right;\">\n",
       "      <th></th>\n",
       "      <th>age_group_desc_th</th>\n",
       "      <th>gender_name_th</th>\n",
       "      <th>labour_total</th>\n",
       "      <th>province_name_th</th>\n",
       "      <th>region_name_th</th>\n",
       "      <th>year</th>\n",
       "    </tr>\n",
       "  </thead>\n",
       "  <tbody>\n",
       "    <tr>\n",
       "      <th>0</th>\n",
       "      <td>15 - 19</td>\n",
       "      <td>ชาย</td>\n",
       "      <td>22357.0000</td>\n",
       "      <td>กรุงเทพมหานคร</td>\n",
       "      <td>ภาคกลาง</td>\n",
       "      <td>2554</td>\n",
       "    </tr>\n",
       "    <tr>\n",
       "      <th>1</th>\n",
       "      <td>15 - 19</td>\n",
       "      <td>ชาย</td>\n",
       "      <td>22357.0000</td>\n",
       "      <td>กรุงเทพมหานคร</td>\n",
       "      <td>ภาคกลาง</td>\n",
       "      <td>2554</td>\n",
       "    </tr>\n",
       "    <tr>\n",
       "      <th>2</th>\n",
       "      <td>15 - 19</td>\n",
       "      <td>หญิง</td>\n",
       "      <td>11074.0000</td>\n",
       "      <td>กรุงเทพมหานคร</td>\n",
       "      <td>ภาคกลาง</td>\n",
       "      <td>2554</td>\n",
       "    </tr>\n",
       "    <tr>\n",
       "      <th>3</th>\n",
       "      <td>15 - 19</td>\n",
       "      <td>หญิง</td>\n",
       "      <td>11074.0000</td>\n",
       "      <td>กรุงเทพมหานคร</td>\n",
       "      <td>ภาคกลาง</td>\n",
       "      <td>2554</td>\n",
       "    </tr>\n",
       "    <tr>\n",
       "      <th>4</th>\n",
       "      <td>20 - 24</td>\n",
       "      <td>ชาย</td>\n",
       "      <td>67345.0000</td>\n",
       "      <td>กรุงเทพมหานคร</td>\n",
       "      <td>ภาคกลาง</td>\n",
       "      <td>2554</td>\n",
       "    </tr>\n",
       "    <tr>\n",
       "      <th>...</th>\n",
       "      <td>...</td>\n",
       "      <td>...</td>\n",
       "      <td>...</td>\n",
       "      <td>...</td>\n",
       "      <td>...</td>\n",
       "      <td>...</td>\n",
       "    </tr>\n",
       "    <tr>\n",
       "      <th>55435</th>\n",
       "      <td>55 - 59</td>\n",
       "      <td>หญิง</td>\n",
       "      <td>6504.3368</td>\n",
       "      <td>นราธิวาส</td>\n",
       "      <td>ภาคใต้ชายแดน</td>\n",
       "      <td>2562</td>\n",
       "    </tr>\n",
       "    <tr>\n",
       "      <th>55436</th>\n",
       "      <td>60 ขึ้นไป</td>\n",
       "      <td>ชาย</td>\n",
       "      <td>14081.1371</td>\n",
       "      <td>นราธิวาส</td>\n",
       "      <td>ภาคใต้ชายแดน</td>\n",
       "      <td>2562</td>\n",
       "    </tr>\n",
       "    <tr>\n",
       "      <th>55437</th>\n",
       "      <td>60 ขึ้นไป</td>\n",
       "      <td>ชาย</td>\n",
       "      <td>14081.1371</td>\n",
       "      <td>นราธิวาส</td>\n",
       "      <td>ภาคใต้ชายแดน</td>\n",
       "      <td>2562</td>\n",
       "    </tr>\n",
       "    <tr>\n",
       "      <th>55438</th>\n",
       "      <td>60 ขึ้นไป</td>\n",
       "      <td>หญิง</td>\n",
       "      <td>9742.1051</td>\n",
       "      <td>นราธิวาส</td>\n",
       "      <td>ภาคใต้ชายแดน</td>\n",
       "      <td>2562</td>\n",
       "    </tr>\n",
       "    <tr>\n",
       "      <th>55439</th>\n",
       "      <td>60 ขึ้นไป</td>\n",
       "      <td>หญิง</td>\n",
       "      <td>9742.1051</td>\n",
       "      <td>นราธิวาส</td>\n",
       "      <td>ภาคใต้ชายแดน</td>\n",
       "      <td>2562</td>\n",
       "    </tr>\n",
       "  </tbody>\n",
       "</table>\n",
       "<p>55440 rows × 6 columns</p>\n",
       "</div>"
      ],
      "text/plain": [
       "      age_group_desc_th gender_name_th  labour_total province_name_th  \\\n",
       "0               15 - 19            ชาย    22357.0000    กรุงเทพมหานคร   \n",
       "1               15 - 19            ชาย    22357.0000    กรุงเทพมหานคร   \n",
       "2               15 - 19           หญิง    11074.0000    กรุงเทพมหานคร   \n",
       "3               15 - 19           หญิง    11074.0000    กรุงเทพมหานคร   \n",
       "4               20 - 24            ชาย    67345.0000    กรุงเทพมหานคร   \n",
       "...                 ...            ...           ...              ...   \n",
       "55435           55 - 59           หญิง     6504.3368         นราธิวาส   \n",
       "55436         60 ขึ้นไป            ชาย    14081.1371         นราธิวาส   \n",
       "55437         60 ขึ้นไป            ชาย    14081.1371         นราธิวาส   \n",
       "55438         60 ขึ้นไป           หญิง     9742.1051         นราธิวาส   \n",
       "55439         60 ขึ้นไป           หญิง     9742.1051         นราธิวาส   \n",
       "\n",
       "      region_name_th  year  \n",
       "0            ภาคกลาง  2554  \n",
       "1            ภาคกลาง  2554  \n",
       "2            ภาคกลาง  2554  \n",
       "3            ภาคกลาง  2554  \n",
       "4            ภาคกลาง  2554  \n",
       "...              ...   ...  \n",
       "55435   ภาคใต้ชายแดน  2562  \n",
       "55436   ภาคใต้ชายแดน  2562  \n",
       "55437   ภาคใต้ชายแดน  2562  \n",
       "55438   ภาคใต้ชายแดน  2562  \n",
       "55439   ภาคใต้ชายแดน  2562  \n",
       "\n",
       "[55440 rows x 6 columns]"
      ]
     },
     "execution_count": 8,
     "metadata": {},
     "output_type": "execute_result"
    }
   ],
   "source": [
    "df_INFORMAL_EMPLOYMENT =pd.read_json('data/INFORMAL_EMPLOYMENT.json')\n",
    "df_INFORMAL_EMPLOYMENT"
   ]
  },
  {
   "cell_type": "code",
   "execution_count": 9,
   "metadata": {
    "scrolled": false
   },
   "outputs": [
    {
     "data": {
      "text/html": [
       "<div>\n",
       "<style scoped>\n",
       "    .dataframe tbody tr th:only-of-type {\n",
       "        vertical-align: middle;\n",
       "    }\n",
       "\n",
       "    .dataframe tbody tr th {\n",
       "        vertical-align: top;\n",
       "    }\n",
       "\n",
       "    .dataframe thead th {\n",
       "        text-align: right;\n",
       "    }\n",
       "</style>\n",
       "<table border=\"1\" class=\"dataframe\">\n",
       "  <thead>\n",
       "    <tr style=\"text-align: right;\">\n",
       "      <th></th>\n",
       "      <th>birth_death_type_desc_th</th>\n",
       "      <th>births_total</th>\n",
       "      <th>province_name_th</th>\n",
       "      <th>region_name_th</th>\n",
       "      <th>year</th>\n",
       "    </tr>\n",
       "  </thead>\n",
       "  <tbody>\n",
       "    <tr>\n",
       "      <th>0</th>\n",
       "      <td>การเกิดมีชีพทั้งหมด</td>\n",
       "      <td>101112.0</td>\n",
       "      <td>กรุงเทพมหานคร</td>\n",
       "      <td>ภาคกลาง</td>\n",
       "      <td>2552</td>\n",
       "    </tr>\n",
       "    <tr>\n",
       "      <th>1</th>\n",
       "      <td>การเกิดมีชีพทั้งหมด</td>\n",
       "      <td>101112.0</td>\n",
       "      <td>กรุงเทพมหานคร</td>\n",
       "      <td>ภาคกลาง</td>\n",
       "      <td>2552</td>\n",
       "    </tr>\n",
       "    <tr>\n",
       "      <th>2</th>\n",
       "      <td>การเกิดในโรงพยาบาล</td>\n",
       "      <td>94180.0</td>\n",
       "      <td>กรุงเทพมหานคร</td>\n",
       "      <td>ภาคกลาง</td>\n",
       "      <td>2552</td>\n",
       "    </tr>\n",
       "    <tr>\n",
       "      <th>3</th>\n",
       "      <td>การเกิดในโรงพยาบาล</td>\n",
       "      <td>94180.0</td>\n",
       "      <td>กรุงเทพมหานคร</td>\n",
       "      <td>ภาคกลาง</td>\n",
       "      <td>2552</td>\n",
       "    </tr>\n",
       "    <tr>\n",
       "      <th>4</th>\n",
       "      <td>การเกิดมีชีพทั้งหมด</td>\n",
       "      <td>14375.0</td>\n",
       "      <td>สมุทรปราการ</td>\n",
       "      <td>ภาคกลาง</td>\n",
       "      <td>2552</td>\n",
       "    </tr>\n",
       "    <tr>\n",
       "      <th>...</th>\n",
       "      <td>...</td>\n",
       "      <td>...</td>\n",
       "      <td>...</td>\n",
       "      <td>...</td>\n",
       "      <td>...</td>\n",
       "    </tr>\n",
       "    <tr>\n",
       "      <th>3075</th>\n",
       "      <td>การเกิดในโรงพยาบาล</td>\n",
       "      <td>9358.0</td>\n",
       "      <td>ยะลา</td>\n",
       "      <td>ภาคใต้ชายแดน</td>\n",
       "      <td>2561</td>\n",
       "    </tr>\n",
       "    <tr>\n",
       "      <th>3076</th>\n",
       "      <td>การเกิดมีชีพทั้งหมด</td>\n",
       "      <td>12116.0</td>\n",
       "      <td>นราธิวาส</td>\n",
       "      <td>ภาคใต้ชายแดน</td>\n",
       "      <td>2561</td>\n",
       "    </tr>\n",
       "    <tr>\n",
       "      <th>3077</th>\n",
       "      <td>การเกิดมีชีพทั้งหมด</td>\n",
       "      <td>12116.0</td>\n",
       "      <td>นราธิวาส</td>\n",
       "      <td>ภาคใต้ชายแดน</td>\n",
       "      <td>2561</td>\n",
       "    </tr>\n",
       "    <tr>\n",
       "      <th>3078</th>\n",
       "      <td>การเกิดในโรงพยาบาล</td>\n",
       "      <td>11949.0</td>\n",
       "      <td>นราธิวาส</td>\n",
       "      <td>ภาคใต้ชายแดน</td>\n",
       "      <td>2561</td>\n",
       "    </tr>\n",
       "    <tr>\n",
       "      <th>3079</th>\n",
       "      <td>การเกิดในโรงพยาบาล</td>\n",
       "      <td>11949.0</td>\n",
       "      <td>นราธิวาส</td>\n",
       "      <td>ภาคใต้ชายแดน</td>\n",
       "      <td>2561</td>\n",
       "    </tr>\n",
       "  </tbody>\n",
       "</table>\n",
       "<p>3080 rows × 5 columns</p>\n",
       "</div>"
      ],
      "text/plain": [
       "     birth_death_type_desc_th  births_total province_name_th region_name_th  \\\n",
       "0         การเกิดมีชีพทั้งหมด      101112.0    กรุงเทพมหานคร        ภาคกลาง   \n",
       "1         การเกิดมีชีพทั้งหมด      101112.0    กรุงเทพมหานคร        ภาคกลาง   \n",
       "2          การเกิดในโรงพยาบาล       94180.0    กรุงเทพมหานคร        ภาคกลาง   \n",
       "3          การเกิดในโรงพยาบาล       94180.0    กรุงเทพมหานคร        ภาคกลาง   \n",
       "4         การเกิดมีชีพทั้งหมด       14375.0      สมุทรปราการ        ภาคกลาง   \n",
       "...                       ...           ...              ...            ...   \n",
       "3075       การเกิดในโรงพยาบาล        9358.0             ยะลา   ภาคใต้ชายแดน   \n",
       "3076      การเกิดมีชีพทั้งหมด       12116.0         นราธิวาส   ภาคใต้ชายแดน   \n",
       "3077      การเกิดมีชีพทั้งหมด       12116.0         นราธิวาส   ภาคใต้ชายแดน   \n",
       "3078       การเกิดในโรงพยาบาล       11949.0         นราธิวาส   ภาคใต้ชายแดน   \n",
       "3079       การเกิดในโรงพยาบาล       11949.0         นราธิวาส   ภาคใต้ชายแดน   \n",
       "\n",
       "      year  \n",
       "0     2552  \n",
       "1     2552  \n",
       "2     2552  \n",
       "3     2552  \n",
       "4     2552  \n",
       "...    ...  \n",
       "3075  2561  \n",
       "3076  2561  \n",
       "3077  2561  \n",
       "3078  2561  \n",
       "3079  2561  \n",
       "\n",
       "[3080 rows x 5 columns]"
      ]
     },
     "execution_count": 9,
     "metadata": {},
     "output_type": "execute_result"
    }
   ],
   "source": [
    "df_LIVE =pd.read_json('data/LIVE.json')\n",
    "df_LIVE"
   ]
  },
  {
   "cell_type": "code",
   "execution_count": 10,
   "metadata": {
    "scrolled": false
   },
   "outputs": [
    {
     "data": {
      "text/html": [
       "<div>\n",
       "<style scoped>\n",
       "    .dataframe tbody tr th:only-of-type {\n",
       "        vertical-align: middle;\n",
       "    }\n",
       "\n",
       "    .dataframe tbody tr th {\n",
       "        vertical-align: top;\n",
       "    }\n",
       "\n",
       "    .dataframe thead th {\n",
       "        text-align: right;\n",
       "    }\n",
       "</style>\n",
       "<table border=\"1\" class=\"dataframe\">\n",
       "  <thead>\n",
       "    <tr style=\"text-align: right;\">\n",
       "      <th></th>\n",
       "      <th>birth_death_type_desc_th</th>\n",
       "      <th>deaths_total</th>\n",
       "      <th>province_name_th</th>\n",
       "      <th>region_name_th</th>\n",
       "      <th>year</th>\n",
       "    </tr>\n",
       "  </thead>\n",
       "  <tbody>\n",
       "    <tr>\n",
       "      <th>0</th>\n",
       "      <td>การตายทั้งหมด</td>\n",
       "      <td>37490.0</td>\n",
       "      <td>กรุงเทพมหานคร</td>\n",
       "      <td>ภาคกลาง</td>\n",
       "      <td>2552</td>\n",
       "    </tr>\n",
       "    <tr>\n",
       "      <th>1</th>\n",
       "      <td>การตายทั้งหมด</td>\n",
       "      <td>37490.0</td>\n",
       "      <td>กรุงเทพมหานคร</td>\n",
       "      <td>ภาคกลาง</td>\n",
       "      <td>2552</td>\n",
       "    </tr>\n",
       "    <tr>\n",
       "      <th>2</th>\n",
       "      <td>การตายในโรงพยาบาล</td>\n",
       "      <td>26857.0</td>\n",
       "      <td>กรุงเทพมหานคร</td>\n",
       "      <td>ภาคกลาง</td>\n",
       "      <td>2552</td>\n",
       "    </tr>\n",
       "    <tr>\n",
       "      <th>3</th>\n",
       "      <td>การตายในโรงพยาบาล</td>\n",
       "      <td>26857.0</td>\n",
       "      <td>กรุงเทพมหานคร</td>\n",
       "      <td>ภาคกลาง</td>\n",
       "      <td>2552</td>\n",
       "    </tr>\n",
       "    <tr>\n",
       "      <th>4</th>\n",
       "      <td>การตายทั้งหมด</td>\n",
       "      <td>6020.0</td>\n",
       "      <td>สมุทรปราการ</td>\n",
       "      <td>ภาคกลาง</td>\n",
       "      <td>2552</td>\n",
       "    </tr>\n",
       "    <tr>\n",
       "      <th>...</th>\n",
       "      <td>...</td>\n",
       "      <td>...</td>\n",
       "      <td>...</td>\n",
       "      <td>...</td>\n",
       "      <td>...</td>\n",
       "    </tr>\n",
       "    <tr>\n",
       "      <th>3075</th>\n",
       "      <td>การตายในโรงพยาบาล</td>\n",
       "      <td>1124.0</td>\n",
       "      <td>ยะลา</td>\n",
       "      <td>ภาคใต้ชายแดน</td>\n",
       "      <td>2561</td>\n",
       "    </tr>\n",
       "    <tr>\n",
       "      <th>3076</th>\n",
       "      <td>การตายทั้งหมด</td>\n",
       "      <td>4619.0</td>\n",
       "      <td>นราธิวาส</td>\n",
       "      <td>ภาคใต้ชายแดน</td>\n",
       "      <td>2561</td>\n",
       "    </tr>\n",
       "    <tr>\n",
       "      <th>3077</th>\n",
       "      <td>การตายทั้งหมด</td>\n",
       "      <td>4619.0</td>\n",
       "      <td>นราธิวาส</td>\n",
       "      <td>ภาคใต้ชายแดน</td>\n",
       "      <td>2561</td>\n",
       "    </tr>\n",
       "    <tr>\n",
       "      <th>3078</th>\n",
       "      <td>การตายในโรงพยาบาล</td>\n",
       "      <td>1358.0</td>\n",
       "      <td>นราธิวาส</td>\n",
       "      <td>ภาคใต้ชายแดน</td>\n",
       "      <td>2561</td>\n",
       "    </tr>\n",
       "    <tr>\n",
       "      <th>3079</th>\n",
       "      <td>การตายในโรงพยาบาล</td>\n",
       "      <td>1358.0</td>\n",
       "      <td>นราธิวาส</td>\n",
       "      <td>ภาคใต้ชายแดน</td>\n",
       "      <td>2561</td>\n",
       "    </tr>\n",
       "  </tbody>\n",
       "</table>\n",
       "<p>3080 rows × 5 columns</p>\n",
       "</div>"
      ],
      "text/plain": [
       "     birth_death_type_desc_th  deaths_total province_name_th region_name_th  \\\n",
       "0               การตายทั้งหมด       37490.0    กรุงเทพมหานคร        ภาคกลาง   \n",
       "1               การตายทั้งหมด       37490.0    กรุงเทพมหานคร        ภาคกลาง   \n",
       "2           การตายในโรงพยาบาล       26857.0    กรุงเทพมหานคร        ภาคกลาง   \n",
       "3           การตายในโรงพยาบาล       26857.0    กรุงเทพมหานคร        ภาคกลาง   \n",
       "4               การตายทั้งหมด        6020.0      สมุทรปราการ        ภาคกลาง   \n",
       "...                       ...           ...              ...            ...   \n",
       "3075        การตายในโรงพยาบาล        1124.0             ยะลา   ภาคใต้ชายแดน   \n",
       "3076            การตายทั้งหมด        4619.0         นราธิวาส   ภาคใต้ชายแดน   \n",
       "3077            การตายทั้งหมด        4619.0         นราธิวาส   ภาคใต้ชายแดน   \n",
       "3078        การตายในโรงพยาบาล        1358.0         นราธิวาส   ภาคใต้ชายแดน   \n",
       "3079        การตายในโรงพยาบาล        1358.0         นราธิวาส   ภาคใต้ชายแดน   \n",
       "\n",
       "      year  \n",
       "0     2552  \n",
       "1     2552  \n",
       "2     2552  \n",
       "3     2552  \n",
       "4     2552  \n",
       "...    ...  \n",
       "3075  2561  \n",
       "3076  2561  \n",
       "3077  2561  \n",
       "3078  2561  \n",
       "3079  2561  \n",
       "\n",
       "[3080 rows x 5 columns]"
      ]
     },
     "execution_count": 10,
     "metadata": {},
     "output_type": "execute_result"
    }
   ],
   "source": [
    "df_DEATHS =pd.read_json('data/DEATHS.json')\n",
    "df_DEATHS"
   ]
  },
  {
   "cell_type": "markdown",
   "metadata": {},
   "source": [
    "## หาค่า Missing Values , ทำการ cleaning เเละ กำจัดข้อมูลที่ซ้ำกัน"
   ]
  },
  {
   "cell_type": "code",
   "execution_count": 11,
   "metadata": {
    "scrolled": true
   },
   "outputs": [
    {
     "name": "stdout",
     "output_type": "stream",
     "text": [
      "divorce_total       2\n",
      "province_name_th    0\n",
      "region_name_th      0\n",
      "year                0\n",
      "dtype: int64\n",
      "True     770\n",
      "False    770\n",
      "dtype: int64\n",
      "770\n",
      "Completed\n"
     ]
    }
   ],
   "source": [
    "print(df_DIVORCE.isnull().sum())#เป็นการตรวจสอบว่ามีค่าว่างหรือไม่\n",
    "df_DIVORCE = df_DIVORCE.fillna(df_DIVORCE.divorce_total.mean())#ทำการเเทนที่่ค่าว่างด้วยค่าเฉลี่ยของdivorce_total\n",
    "print(df_DIVORCE.duplicated().value_counts())#เป็นการตรวจสอบว่ามีค่าซ้ำกันหรือไม่ของเเต่ละแถว\n",
    "df_DIVORCE.drop_duplicates(['divorce_total','province_name_th',\n",
    "                            'region_name_th','year'], inplace=True)#เป็นการลบข้อมูลที่ซ้ำกันออกไป\n",
    "df_DIVORCE.reset_index(drop=True, inplace=True)\n",
    "print(len(df_DIVORCE))\n",
    "print('Completed')"
   ]
  },
  {
   "cell_type": "code",
   "execution_count": 12,
   "metadata": {},
   "outputs": [
    {
     "name": "stdout",
     "output_type": "stream",
     "text": [
      "marriage_total      2\n",
      "province_name_th    0\n",
      "region_name_th      0\n",
      "year                0\n",
      "dtype: int64\n",
      "True     770\n",
      "False    770\n",
      "dtype: int64\n",
      "770\n",
      "Completed\n"
     ]
    }
   ],
   "source": [
    "print(df_MARRIAGE.isnull().sum())#เป็นการตรวจสอบว่ามีค่าว่างหรือไม่\n",
    "df_MARRIAGE = df_MARRIAGE.fillna(df_MARRIAGE.marriage_total.mean())#ทำการเเทนที่่ค่าว่างด้วยค่าเฉลี่ยของmarriage_total\n",
    "print(df_MARRIAGE.duplicated().value_counts())#เป็นการตรวจสอบว่ามีค่าซ้ำกันหรือไม่ของเเต่ละแถว\n",
    "df_MARRIAGE.drop_duplicates(['marriage_total','province_name_th',\n",
    "                            'region_name_th','year'], inplace=True)#เป็นการลบข้อมูลที่ซ้ำกันออกไป\n",
    "df_MARRIAGE.reset_index(drop=True, inplace=True)\n",
    "print(len(df_MARRIAGE))\n",
    "print('Completed')"
   ]
  },
  {
   "cell_type": "code",
   "execution_count": 13,
   "metadata": {
    "scrolled": true
   },
   "outputs": [
    {
     "name": "stdout",
     "output_type": "stream",
     "text": [
      "age_group_desc_th    0\n",
      "gender_name          0\n",
      "population_total     8\n",
      "province_name_th     0\n",
      "region_name_th       0\n",
      "year                 0\n",
      "dtype: int64\n",
      "False    6160\n",
      "dtype: int64\n",
      "6156\n",
      "Completed\n"
     ]
    }
   ],
   "source": [
    "print(df_AGE_GROUP.isnull().sum())#เป็นการตรวจสอบว่ามีค่าว่างหรือไม่\n",
    "df_AGE_GROUP = df_AGE_GROUP.fillna(df_AGE_GROUP.population_total.mean())#ทำการเเทนที่่ค่าว่างด้วยค่าเฉลี่ยของpopulation_total\n",
    "print(df_AGE_GROUP.duplicated().value_counts())#เป็นการตรวจสอบว่ามีค่าซ้ำกันหรือไม่ของเเต่ละแถว\n",
    "df_AGE_GROUP.drop_duplicates(['population_total','province_name_th',\n",
    "                            'region_name_th','year','age_group_desc_th'], inplace=True)#เป็นการลบข้อมูลที่ซ้ำกันออกไป\n",
    "df_AGE_GROUP.reset_index(drop=True, inplace=True)\n",
    "print(len(df_AGE_GROUP))\n",
    "print('Completed')\n"
   ]
  },
  {
   "cell_type": "code",
   "execution_count": 14,
   "metadata": {},
   "outputs": [
    {
     "name": "stdout",
     "output_type": "stream",
     "text": [
      "age_group_desc_th     0\n",
      "gender_name_th        0\n",
      "labour_total         80\n",
      "province_name_th      0\n",
      "region_name_th        0\n",
      "year                  0\n",
      "dtype: int64\n",
      "True     27742\n",
      "False    27698\n",
      "dtype: int64\n",
      "27681\n",
      "Completed\n"
     ]
    }
   ],
   "source": [
    "print(df_INFORMAL_EMPLOYMENT.isnull().sum())#เป็นการตรวจสอบว่ามีค่าว่างหรือไม่\n",
    "df_INFORMAL_EMPLOYMENT = df_INFORMAL_EMPLOYMENT.fillna(df_INFORMAL_EMPLOYMENT.labour_total.mean())#ทำการแทนที่่ค่าว่างด้วยค่าเฉลี่ยของlabour_total\n",
    "print(df_INFORMAL_EMPLOYMENT.duplicated().value_counts())#เป็นการตรวจสอบว่ามีค่าซ้ำกันหรือไม่ของเเต่ละแถว\n",
    "df_INFORMAL_EMPLOYMENT.drop_duplicates(['labour_total','province_name_th',\n",
    "                            'region_name_th','year','age_group_desc_th'], inplace=True)#เป็นการลบข้อมูลที่ซ้ำกันออกไป\n",
    "df_INFORMAL_EMPLOYMENT.reset_index(drop=True, inplace=True)\n",
    "print(len(df_INFORMAL_EMPLOYMENT))\n",
    "print('Completed')\n"
   ]
  },
  {
   "cell_type": "code",
   "execution_count": 15,
   "metadata": {
    "scrolled": true
   },
   "outputs": [
    {
     "name": "stdout",
     "output_type": "stream",
     "text": [
      "birth_death_type_desc_th    0\n",
      "births_total                8\n",
      "province_name_th            0\n",
      "region_name_th              0\n",
      "year                        0\n",
      "dtype: int64\n",
      "True     1540\n",
      "False    1540\n",
      "dtype: int64\n",
      "1540\n",
      "Completed\n"
     ]
    }
   ],
   "source": [
    "print(df_LIVE.isnull().sum())#เป็นการตรวจสอบว่ามีค่าว่างหรือไม่\n",
    "df_LIVE = df_LIVE.fillna(df_LIVE.births_total.mean())#ทำการเเทนที่่ค่าว่างด้วยค่าเฉลี่ยของbirths_total\n",
    "print(df_LIVE.duplicated().value_counts())#เป็นการตรวจสอบว่ามีค่าซ้ำกันหรือไม่ของเเต่ละแถว\n",
    "df_LIVE.drop_duplicates(['births_total','province_name_th',\n",
    "                            'region_name_th','year','birth_death_type_desc_th'], inplace=True)#เป็นการลบข้อมูลที่ซ้ำกันออกไป\n",
    "df_LIVE.reset_index(drop=True, inplace=True)\n",
    "print(len(df_LIVE))\n",
    "print('Completed')\n"
   ]
  },
  {
   "cell_type": "code",
   "execution_count": 16,
   "metadata": {
    "scrolled": false
   },
   "outputs": [
    {
     "name": "stdout",
     "output_type": "stream",
     "text": [
      "birth_death_type_desc_th    0\n",
      "deaths_total                8\n",
      "province_name_th            0\n",
      "region_name_th              0\n",
      "year                        0\n",
      "dtype: int64\n",
      "True     1540\n",
      "False    1540\n",
      "dtype: int64\n",
      "1540\n",
      "Completed\n"
     ]
    }
   ],
   "source": [
    "print(df_DEATHS.isnull().sum())#เป็นการตรวจสอบว่ามีค่าว่างหรือไม่\n",
    "df_DEATHS = df_DEATHS.fillna(df_DEATHS.deaths_total.mean())#ทำการเเทนที่่ค่าว่างด้วยค่าเฉลี่ยของdeaths_total\n",
    "print(df_DEATHS.duplicated().value_counts())#เป็นการตรวจสอบว่ามีค่าซ้ำกันหรือไม่ของเเต่ละแถว\n",
    "df_DEATHS.drop_duplicates(['deaths_total','province_name_th',\n",
    "                            'region_name_th','year','birth_death_type_desc_th'], inplace=True)#เป็นการลบข้อมูลที่ซ้ำกันออกไป\n",
    "df_DEATHS.reset_index(drop=True, inplace=True)\n",
    "print(len(df_DEATHS))\n",
    "print('Completed')\n"
   ]
  },
  {
   "cell_type": "markdown",
   "metadata": {},
   "source": [
    "## ทำการfilter ข้อมูลโดยเราจะเอาเฉพาะปี 2554-2561มาใช้"
   ]
  },
  {
   "cell_type": "code",
   "execution_count": 17,
   "metadata": {
    "scrolled": false
   },
   "outputs": [
    {
     "data": {
      "text/html": [
       "<div>\n",
       "<style scoped>\n",
       "    .dataframe tbody tr th:only-of-type {\n",
       "        vertical-align: middle;\n",
       "    }\n",
       "\n",
       "    .dataframe tbody tr th {\n",
       "        vertical-align: top;\n",
       "    }\n",
       "\n",
       "    .dataframe thead th {\n",
       "        text-align: right;\n",
       "    }\n",
       "</style>\n",
       "<table border=\"1\" class=\"dataframe\">\n",
       "  <thead>\n",
       "    <tr style=\"text-align: right;\">\n",
       "      <th></th>\n",
       "      <th>divorce_total</th>\n",
       "      <th>province_name_th</th>\n",
       "      <th>region_name_th</th>\n",
       "      <th>year</th>\n",
       "    </tr>\n",
       "  </thead>\n",
       "  <tbody>\n",
       "    <tr>\n",
       "      <th>77</th>\n",
       "      <td>15175.0</td>\n",
       "      <td>กรุงเทพมหานคร</td>\n",
       "      <td>ภาคกลาง</td>\n",
       "      <td>2554</td>\n",
       "    </tr>\n",
       "    <tr>\n",
       "      <th>78</th>\n",
       "      <td>3638.0</td>\n",
       "      <td>สมุทรปราการ</td>\n",
       "      <td>ภาคกลาง</td>\n",
       "      <td>2554</td>\n",
       "    </tr>\n",
       "    <tr>\n",
       "      <th>79</th>\n",
       "      <td>2019.0</td>\n",
       "      <td>นนทบุรี</td>\n",
       "      <td>ภาคกลาง</td>\n",
       "      <td>2554</td>\n",
       "    </tr>\n",
       "    <tr>\n",
       "      <th>80</th>\n",
       "      <td>2301.0</td>\n",
       "      <td>ปทุมธานี</td>\n",
       "      <td>ภาคกลาง</td>\n",
       "      <td>2554</td>\n",
       "    </tr>\n",
       "    <tr>\n",
       "      <th>81</th>\n",
       "      <td>1825.0</td>\n",
       "      <td>พระนครศรีอยุธยา</td>\n",
       "      <td>ภาคกลาง</td>\n",
       "      <td>2554</td>\n",
       "    </tr>\n",
       "    <tr>\n",
       "      <th>...</th>\n",
       "      <td>...</td>\n",
       "      <td>...</td>\n",
       "      <td>...</td>\n",
       "      <td>...</td>\n",
       "    </tr>\n",
       "    <tr>\n",
       "      <th>688</th>\n",
       "      <td>953.0</td>\n",
       "      <td>ตรัง</td>\n",
       "      <td>ภาคใต้</td>\n",
       "      <td>2561</td>\n",
       "    </tr>\n",
       "    <tr>\n",
       "      <th>689</th>\n",
       "      <td>881.0</td>\n",
       "      <td>พัทลุง</td>\n",
       "      <td>ภาคใต้</td>\n",
       "      <td>2561</td>\n",
       "    </tr>\n",
       "    <tr>\n",
       "      <th>690</th>\n",
       "      <td>351.0</td>\n",
       "      <td>ปัตตานี</td>\n",
       "      <td>ภาคใต้ชายแดน</td>\n",
       "      <td>2561</td>\n",
       "    </tr>\n",
       "    <tr>\n",
       "      <th>691</th>\n",
       "      <td>413.0</td>\n",
       "      <td>ยะลา</td>\n",
       "      <td>ภาคใต้ชายแดน</td>\n",
       "      <td>2561</td>\n",
       "    </tr>\n",
       "    <tr>\n",
       "      <th>692</th>\n",
       "      <td>380.0</td>\n",
       "      <td>นราธิวาส</td>\n",
       "      <td>ภาคใต้ชายแดน</td>\n",
       "      <td>2561</td>\n",
       "    </tr>\n",
       "  </tbody>\n",
       "</table>\n",
       "<p>616 rows × 4 columns</p>\n",
       "</div>"
      ],
      "text/plain": [
       "     divorce_total province_name_th region_name_th  year\n",
       "77         15175.0    กรุงเทพมหานคร        ภาคกลาง  2554\n",
       "78          3638.0      สมุทรปราการ        ภาคกลาง  2554\n",
       "79          2019.0          นนทบุรี        ภาคกลาง  2554\n",
       "80          2301.0         ปทุมธานี        ภาคกลาง  2554\n",
       "81          1825.0  พระนครศรีอยุธยา        ภาคกลาง  2554\n",
       "..             ...              ...            ...   ...\n",
       "688          953.0             ตรัง         ภาคใต้  2561\n",
       "689          881.0           พัทลุง         ภาคใต้  2561\n",
       "690          351.0          ปัตตานี   ภาคใต้ชายแดน  2561\n",
       "691          413.0             ยะลา   ภาคใต้ชายแดน  2561\n",
       "692          380.0         นราธิวาส   ภาคใต้ชายแดน  2561\n",
       "\n",
       "[616 rows x 4 columns]"
      ]
     },
     "metadata": {},
     "output_type": "display_data"
    },
    {
     "name": "stdout",
     "output_type": "stream",
     "text": [
      "completed\n"
     ]
    }
   ],
   "source": [
    "df_DIVORCE=df_DIVORCE[(df_DIVORCE.year>=2554) & (df_DIVORCE.year <2562)]\n",
    "display(df_DIVORCE)\n",
    "print('completed')"
   ]
  },
  {
   "cell_type": "code",
   "execution_count": 18,
   "metadata": {
    "scrolled": false
   },
   "outputs": [
    {
     "data": {
      "text/html": [
       "<div>\n",
       "<style scoped>\n",
       "    .dataframe tbody tr th:only-of-type {\n",
       "        vertical-align: middle;\n",
       "    }\n",
       "\n",
       "    .dataframe tbody tr th {\n",
       "        vertical-align: top;\n",
       "    }\n",
       "\n",
       "    .dataframe thead th {\n",
       "        text-align: right;\n",
       "    }\n",
       "</style>\n",
       "<table border=\"1\" class=\"dataframe\">\n",
       "  <thead>\n",
       "    <tr style=\"text-align: right;\">\n",
       "      <th></th>\n",
       "      <th>marriage_total</th>\n",
       "      <th>province_name_th</th>\n",
       "      <th>region_name_th</th>\n",
       "      <th>year</th>\n",
       "    </tr>\n",
       "  </thead>\n",
       "  <tbody>\n",
       "    <tr>\n",
       "      <th>77</th>\n",
       "      <td>42316.0</td>\n",
       "      <td>กรุงเทพมหานคร</td>\n",
       "      <td>ภาคกลาง</td>\n",
       "      <td>2554</td>\n",
       "    </tr>\n",
       "    <tr>\n",
       "      <th>78</th>\n",
       "      <td>8124.0</td>\n",
       "      <td>สมุทรปราการ</td>\n",
       "      <td>ภาคกลาง</td>\n",
       "      <td>2554</td>\n",
       "    </tr>\n",
       "    <tr>\n",
       "      <th>79</th>\n",
       "      <td>5470.0</td>\n",
       "      <td>นนทบุรี</td>\n",
       "      <td>ภาคกลาง</td>\n",
       "      <td>2554</td>\n",
       "    </tr>\n",
       "    <tr>\n",
       "      <th>80</th>\n",
       "      <td>5454.0</td>\n",
       "      <td>ปทุมธานี</td>\n",
       "      <td>ภาคกลาง</td>\n",
       "      <td>2554</td>\n",
       "    </tr>\n",
       "    <tr>\n",
       "      <th>81</th>\n",
       "      <td>4762.0</td>\n",
       "      <td>พระนครศรีอยุธยา</td>\n",
       "      <td>ภาคกลาง</td>\n",
       "      <td>2554</td>\n",
       "    </tr>\n",
       "    <tr>\n",
       "      <th>...</th>\n",
       "      <td>...</td>\n",
       "      <td>...</td>\n",
       "      <td>...</td>\n",
       "      <td>...</td>\n",
       "    </tr>\n",
       "    <tr>\n",
       "      <th>688</th>\n",
       "      <td>2366.0</td>\n",
       "      <td>ตรัง</td>\n",
       "      <td>ภาคใต้</td>\n",
       "      <td>2561</td>\n",
       "    </tr>\n",
       "    <tr>\n",
       "      <th>689</th>\n",
       "      <td>1824.0</td>\n",
       "      <td>พัทลุง</td>\n",
       "      <td>ภาคใต้</td>\n",
       "      <td>2561</td>\n",
       "    </tr>\n",
       "    <tr>\n",
       "      <th>690</th>\n",
       "      <td>2160.0</td>\n",
       "      <td>ปัตตานี</td>\n",
       "      <td>ภาคใต้ชายแดน</td>\n",
       "      <td>2561</td>\n",
       "    </tr>\n",
       "    <tr>\n",
       "      <th>691</th>\n",
       "      <td>2041.0</td>\n",
       "      <td>ยะลา</td>\n",
       "      <td>ภาคใต้ชายแดน</td>\n",
       "      <td>2561</td>\n",
       "    </tr>\n",
       "    <tr>\n",
       "      <th>692</th>\n",
       "      <td>2349.0</td>\n",
       "      <td>นราธิวาส</td>\n",
       "      <td>ภาคใต้ชายแดน</td>\n",
       "      <td>2561</td>\n",
       "    </tr>\n",
       "  </tbody>\n",
       "</table>\n",
       "<p>616 rows × 4 columns</p>\n",
       "</div>"
      ],
      "text/plain": [
       "     marriage_total province_name_th region_name_th  year\n",
       "77          42316.0    กรุงเทพมหานคร        ภาคกลาง  2554\n",
       "78           8124.0      สมุทรปราการ        ภาคกลาง  2554\n",
       "79           5470.0          นนทบุรี        ภาคกลาง  2554\n",
       "80           5454.0         ปทุมธานี        ภาคกลาง  2554\n",
       "81           4762.0  พระนครศรีอยุธยา        ภาคกลาง  2554\n",
       "..              ...              ...            ...   ...\n",
       "688          2366.0             ตรัง         ภาคใต้  2561\n",
       "689          1824.0           พัทลุง         ภาคใต้  2561\n",
       "690          2160.0          ปัตตานี   ภาคใต้ชายแดน  2561\n",
       "691          2041.0             ยะลา   ภาคใต้ชายแดน  2561\n",
       "692          2349.0         นราธิวาส   ภาคใต้ชายแดน  2561\n",
       "\n",
       "[616 rows x 4 columns]"
      ]
     },
     "metadata": {},
     "output_type": "display_data"
    },
    {
     "name": "stdout",
     "output_type": "stream",
     "text": [
      "completed\n"
     ]
    }
   ],
   "source": [
    "df_MARRIAGE=df_MARRIAGE[(df_MARRIAGE.year>=2554) & (df_MARRIAGE.year <2562)]\n",
    "display(df_MARRIAGE)\n",
    "print('completed')"
   ]
  },
  {
   "cell_type": "code",
   "execution_count": 19,
   "metadata": {
    "scrolled": false
   },
   "outputs": [
    {
     "data": {
      "text/html": [
       "<div>\n",
       "<style scoped>\n",
       "    .dataframe tbody tr th:only-of-type {\n",
       "        vertical-align: middle;\n",
       "    }\n",
       "\n",
       "    .dataframe tbody tr th {\n",
       "        vertical-align: top;\n",
       "    }\n",
       "\n",
       "    .dataframe thead th {\n",
       "        text-align: right;\n",
       "    }\n",
       "</style>\n",
       "<table border=\"1\" class=\"dataframe\">\n",
       "  <thead>\n",
       "    <tr style=\"text-align: right;\">\n",
       "      <th></th>\n",
       "      <th>age_group_desc_th</th>\n",
       "      <th>gender_name</th>\n",
       "      <th>population_total</th>\n",
       "      <th>province_name_th</th>\n",
       "      <th>region_name_th</th>\n",
       "      <th>year</th>\n",
       "    </tr>\n",
       "  </thead>\n",
       "  <tbody>\n",
       "    <tr>\n",
       "      <th>612</th>\n",
       "      <td>วัยเด็ก (0-14 ปี)</td>\n",
       "      <td>ชาย</td>\n",
       "      <td>977740.0</td>\n",
       "      <td>กรุงเทพมหานคร</td>\n",
       "      <td>ภาคกลาง</td>\n",
       "      <td>2554</td>\n",
       "    </tr>\n",
       "    <tr>\n",
       "      <th>613</th>\n",
       "      <td>วัยแรงงาน (15-59 ปี)</td>\n",
       "      <td>ชาย</td>\n",
       "      <td>3617428.0</td>\n",
       "      <td>กรุงเทพมหานคร</td>\n",
       "      <td>ภาคกลาง</td>\n",
       "      <td>2554</td>\n",
       "    </tr>\n",
       "    <tr>\n",
       "      <th>614</th>\n",
       "      <td>วัยสูงอายุ (60 ปีขึ้นไป)</td>\n",
       "      <td>ชาย</td>\n",
       "      <td>611790.0</td>\n",
       "      <td>กรุงเทพมหานคร</td>\n",
       "      <td>ภาคกลาง</td>\n",
       "      <td>2554</td>\n",
       "    </tr>\n",
       "    <tr>\n",
       "      <th>615</th>\n",
       "      <td>จำแนกอายุไม่ได้</td>\n",
       "      <td>ชาย</td>\n",
       "      <td>178950.0</td>\n",
       "      <td>กรุงเทพมหานคร</td>\n",
       "      <td>ภาคกลาง</td>\n",
       "      <td>2554</td>\n",
       "    </tr>\n",
       "    <tr>\n",
       "      <th>616</th>\n",
       "      <td>วัยเด็ก (0-14 ปี)</td>\n",
       "      <td>หญิง</td>\n",
       "      <td>932928.0</td>\n",
       "      <td>กรุงเทพมหานคร</td>\n",
       "      <td>ภาคกลาง</td>\n",
       "      <td>2554</td>\n",
       "    </tr>\n",
       "    <tr>\n",
       "      <th>...</th>\n",
       "      <td>...</td>\n",
       "      <td>...</td>\n",
       "      <td>...</td>\n",
       "      <td>...</td>\n",
       "      <td>...</td>\n",
       "      <td>...</td>\n",
       "    </tr>\n",
       "    <tr>\n",
       "      <th>5535</th>\n",
       "      <td>จำแนกอายุไม่ได้</td>\n",
       "      <td>ชาย</td>\n",
       "      <td>13944.0</td>\n",
       "      <td>นราธิวาส</td>\n",
       "      <td>ภาคใต้ชายแดน</td>\n",
       "      <td>2561</td>\n",
       "    </tr>\n",
       "    <tr>\n",
       "      <th>5536</th>\n",
       "      <td>วัยเด็ก (0-14 ปี)</td>\n",
       "      <td>หญิง</td>\n",
       "      <td>195320.0</td>\n",
       "      <td>นราธิวาส</td>\n",
       "      <td>ภาคใต้ชายแดน</td>\n",
       "      <td>2561</td>\n",
       "    </tr>\n",
       "    <tr>\n",
       "      <th>5537</th>\n",
       "      <td>วัยแรงงาน (15-59 ปี)</td>\n",
       "      <td>หญิง</td>\n",
       "      <td>505122.0</td>\n",
       "      <td>นราธิวาส</td>\n",
       "      <td>ภาคใต้ชายแดน</td>\n",
       "      <td>2561</td>\n",
       "    </tr>\n",
       "    <tr>\n",
       "      <th>5538</th>\n",
       "      <td>วัยสูงอายุ (60 ปีขึ้นไป)</td>\n",
       "      <td>หญิง</td>\n",
       "      <td>98150.0</td>\n",
       "      <td>นราธิวาส</td>\n",
       "      <td>ภาคใต้ชายแดน</td>\n",
       "      <td>2561</td>\n",
       "    </tr>\n",
       "    <tr>\n",
       "      <th>5539</th>\n",
       "      <td>จำแนกอายุไม่ได้</td>\n",
       "      <td>หญิง</td>\n",
       "      <td>12156.0</td>\n",
       "      <td>นราธิวาส</td>\n",
       "      <td>ภาคใต้ชายแดน</td>\n",
       "      <td>2561</td>\n",
       "    </tr>\n",
       "  </tbody>\n",
       "</table>\n",
       "<p>4928 rows × 6 columns</p>\n",
       "</div>"
      ],
      "text/plain": [
       "             age_group_desc_th gender_name  population_total province_name_th  \\\n",
       "612          วัยเด็ก (0-14 ปี)         ชาย          977740.0    กรุงเทพมหานคร   \n",
       "613       วัยแรงงาน (15-59 ปี)         ชาย         3617428.0    กรุงเทพมหานคร   \n",
       "614   วัยสูงอายุ (60 ปีขึ้นไป)         ชาย          611790.0    กรุงเทพมหานคร   \n",
       "615            จำแนกอายุไม่ได้         ชาย          178950.0    กรุงเทพมหานคร   \n",
       "616          วัยเด็ก (0-14 ปี)        หญิง          932928.0    กรุงเทพมหานคร   \n",
       "...                        ...         ...               ...              ...   \n",
       "5535           จำแนกอายุไม่ได้         ชาย           13944.0         นราธิวาส   \n",
       "5536         วัยเด็ก (0-14 ปี)        หญิง          195320.0         นราธิวาส   \n",
       "5537      วัยแรงงาน (15-59 ปี)        หญิง          505122.0         นราธิวาส   \n",
       "5538  วัยสูงอายุ (60 ปีขึ้นไป)        หญิง           98150.0         นราธิวาส   \n",
       "5539           จำแนกอายุไม่ได้        หญิง           12156.0         นราธิวาส   \n",
       "\n",
       "     region_name_th  year  \n",
       "612         ภาคกลาง  2554  \n",
       "613         ภาคกลาง  2554  \n",
       "614         ภาคกลาง  2554  \n",
       "615         ภาคกลาง  2554  \n",
       "616         ภาคกลาง  2554  \n",
       "...             ...   ...  \n",
       "5535   ภาคใต้ชายแดน  2561  \n",
       "5536   ภาคใต้ชายแดน  2561  \n",
       "5537   ภาคใต้ชายแดน  2561  \n",
       "5538   ภาคใต้ชายแดน  2561  \n",
       "5539   ภาคใต้ชายแดน  2561  \n",
       "\n",
       "[4928 rows x 6 columns]"
      ]
     },
     "metadata": {},
     "output_type": "display_data"
    },
    {
     "name": "stdout",
     "output_type": "stream",
     "text": [
      "completed\n"
     ]
    }
   ],
   "source": [
    "df_AGE_GROUP=df_AGE_GROUP[(df_AGE_GROUP.year>=2554) & (df_AGE_GROUP.year <2562)]\n",
    "display(df_AGE_GROUP)\n",
    "print('completed')"
   ]
  },
  {
   "cell_type": "code",
   "execution_count": 20,
   "metadata": {
    "scrolled": false
   },
   "outputs": [
    {
     "data": {
      "text/html": [
       "<div>\n",
       "<style scoped>\n",
       "    .dataframe tbody tr th:only-of-type {\n",
       "        vertical-align: middle;\n",
       "    }\n",
       "\n",
       "    .dataframe tbody tr th {\n",
       "        vertical-align: top;\n",
       "    }\n",
       "\n",
       "    .dataframe thead th {\n",
       "        text-align: right;\n",
       "    }\n",
       "</style>\n",
       "<table border=\"1\" class=\"dataframe\">\n",
       "  <thead>\n",
       "    <tr style=\"text-align: right;\">\n",
       "      <th></th>\n",
       "      <th>age_group_desc_th</th>\n",
       "      <th>gender_name_th</th>\n",
       "      <th>labour_total</th>\n",
       "      <th>province_name_th</th>\n",
       "      <th>region_name_th</th>\n",
       "      <th>year</th>\n",
       "    </tr>\n",
       "  </thead>\n",
       "  <tbody>\n",
       "    <tr>\n",
       "      <th>0</th>\n",
       "      <td>15 - 19</td>\n",
       "      <td>ชาย</td>\n",
       "      <td>22357.0000</td>\n",
       "      <td>กรุงเทพมหานคร</td>\n",
       "      <td>ภาคกลาง</td>\n",
       "      <td>2554</td>\n",
       "    </tr>\n",
       "    <tr>\n",
       "      <th>1</th>\n",
       "      <td>15 - 19</td>\n",
       "      <td>หญิง</td>\n",
       "      <td>11074.0000</td>\n",
       "      <td>กรุงเทพมหานคร</td>\n",
       "      <td>ภาคกลาง</td>\n",
       "      <td>2554</td>\n",
       "    </tr>\n",
       "    <tr>\n",
       "      <th>2</th>\n",
       "      <td>20 - 24</td>\n",
       "      <td>ชาย</td>\n",
       "      <td>67345.0000</td>\n",
       "      <td>กรุงเทพมหานคร</td>\n",
       "      <td>ภาคกลาง</td>\n",
       "      <td>2554</td>\n",
       "    </tr>\n",
       "    <tr>\n",
       "      <th>3</th>\n",
       "      <td>20 - 24</td>\n",
       "      <td>หญิง</td>\n",
       "      <td>51972.0000</td>\n",
       "      <td>กรุงเทพมหานคร</td>\n",
       "      <td>ภาคกลาง</td>\n",
       "      <td>2554</td>\n",
       "    </tr>\n",
       "    <tr>\n",
       "      <th>4</th>\n",
       "      <td>25 - 29</td>\n",
       "      <td>ชาย</td>\n",
       "      <td>147811.0000</td>\n",
       "      <td>กรุงเทพมหานคร</td>\n",
       "      <td>ภาคกลาง</td>\n",
       "      <td>2554</td>\n",
       "    </tr>\n",
       "    <tr>\n",
       "      <th>...</th>\n",
       "      <td>...</td>\n",
       "      <td>...</td>\n",
       "      <td>...</td>\n",
       "      <td>...</td>\n",
       "      <td>...</td>\n",
       "      <td>...</td>\n",
       "    </tr>\n",
       "    <tr>\n",
       "      <th>24600</th>\n",
       "      <td>50 - 54</td>\n",
       "      <td>หญิง</td>\n",
       "      <td>8007.2689</td>\n",
       "      <td>นราธิวาส</td>\n",
       "      <td>ภาคใต้ชายแดน</td>\n",
       "      <td>2561</td>\n",
       "    </tr>\n",
       "    <tr>\n",
       "      <th>24601</th>\n",
       "      <td>55 - 59</td>\n",
       "      <td>ชาย</td>\n",
       "      <td>6952.1292</td>\n",
       "      <td>นราธิวาส</td>\n",
       "      <td>ภาคใต้ชายแดน</td>\n",
       "      <td>2561</td>\n",
       "    </tr>\n",
       "    <tr>\n",
       "      <th>24602</th>\n",
       "      <td>55 - 59</td>\n",
       "      <td>หญิง</td>\n",
       "      <td>10229.3570</td>\n",
       "      <td>นราธิวาส</td>\n",
       "      <td>ภาคใต้ชายแดน</td>\n",
       "      <td>2561</td>\n",
       "    </tr>\n",
       "    <tr>\n",
       "      <th>24603</th>\n",
       "      <td>60 ขึ้นไป</td>\n",
       "      <td>ชาย</td>\n",
       "      <td>14853.2150</td>\n",
       "      <td>นราธิวาส</td>\n",
       "      <td>ภาคใต้ชายแดน</td>\n",
       "      <td>2561</td>\n",
       "    </tr>\n",
       "    <tr>\n",
       "      <th>24604</th>\n",
       "      <td>60 ขึ้นไป</td>\n",
       "      <td>หญิง</td>\n",
       "      <td>8862.7232</td>\n",
       "      <td>นราธิวาส</td>\n",
       "      <td>ภาคใต้ชายแดน</td>\n",
       "      <td>2561</td>\n",
       "    </tr>\n",
       "  </tbody>\n",
       "</table>\n",
       "<p>24605 rows × 6 columns</p>\n",
       "</div>"
      ],
      "text/plain": [
       "      age_group_desc_th gender_name_th  labour_total province_name_th  \\\n",
       "0               15 - 19            ชาย    22357.0000    กรุงเทพมหานคร   \n",
       "1               15 - 19           หญิง    11074.0000    กรุงเทพมหานคร   \n",
       "2               20 - 24            ชาย    67345.0000    กรุงเทพมหานคร   \n",
       "3               20 - 24           หญิง    51972.0000    กรุงเทพมหานคร   \n",
       "4               25 - 29            ชาย   147811.0000    กรุงเทพมหานคร   \n",
       "...                 ...            ...           ...              ...   \n",
       "24600           50 - 54           หญิง     8007.2689         นราธิวาส   \n",
       "24601           55 - 59            ชาย     6952.1292         นราธิวาส   \n",
       "24602           55 - 59           หญิง    10229.3570         นราธิวาส   \n",
       "24603         60 ขึ้นไป            ชาย    14853.2150         นราธิวาส   \n",
       "24604         60 ขึ้นไป           หญิง     8862.7232         นราธิวาส   \n",
       "\n",
       "      region_name_th  year  \n",
       "0            ภาคกลาง  2554  \n",
       "1            ภาคกลาง  2554  \n",
       "2            ภาคกลาง  2554  \n",
       "3            ภาคกลาง  2554  \n",
       "4            ภาคกลาง  2554  \n",
       "...              ...   ...  \n",
       "24600   ภาคใต้ชายแดน  2561  \n",
       "24601   ภาคใต้ชายแดน  2561  \n",
       "24602   ภาคใต้ชายแดน  2561  \n",
       "24603   ภาคใต้ชายแดน  2561  \n",
       "24604   ภาคใต้ชายแดน  2561  \n",
       "\n",
       "[24605 rows x 6 columns]"
      ]
     },
     "metadata": {},
     "output_type": "display_data"
    },
    {
     "name": "stdout",
     "output_type": "stream",
     "text": [
      "completed\n"
     ]
    }
   ],
   "source": [
    "df_INFORMAL_EMPLOYMENT=df_INFORMAL_EMPLOYMENT[(df_INFORMAL_EMPLOYMENT.year>=2554) \n",
    "                                            &(df_INFORMAL_EMPLOYMENT.year <2562)]\n",
    "display(df_INFORMAL_EMPLOYMENT)\n",
    "print('completed')"
   ]
  },
  {
   "cell_type": "code",
   "execution_count": 21,
   "metadata": {
    "scrolled": false
   },
   "outputs": [
    {
     "data": {
      "text/html": [
       "<div>\n",
       "<style scoped>\n",
       "    .dataframe tbody tr th:only-of-type {\n",
       "        vertical-align: middle;\n",
       "    }\n",
       "\n",
       "    .dataframe tbody tr th {\n",
       "        vertical-align: top;\n",
       "    }\n",
       "\n",
       "    .dataframe thead th {\n",
       "        text-align: right;\n",
       "    }\n",
       "</style>\n",
       "<table border=\"1\" class=\"dataframe\">\n",
       "  <thead>\n",
       "    <tr style=\"text-align: right;\">\n",
       "      <th></th>\n",
       "      <th>birth_death_type_desc_th</th>\n",
       "      <th>births_total</th>\n",
       "      <th>province_name_th</th>\n",
       "      <th>region_name_th</th>\n",
       "      <th>year</th>\n",
       "    </tr>\n",
       "  </thead>\n",
       "  <tbody>\n",
       "    <tr>\n",
       "      <th>308</th>\n",
       "      <td>การเกิดมีชีพทั้งหมด</td>\n",
       "      <td>101019.0</td>\n",
       "      <td>กรุงเทพมหานคร</td>\n",
       "      <td>ภาคกลาง</td>\n",
       "      <td>2554</td>\n",
       "    </tr>\n",
       "    <tr>\n",
       "      <th>309</th>\n",
       "      <td>การเกิดในโรงพยาบาล</td>\n",
       "      <td>91432.0</td>\n",
       "      <td>กรุงเทพมหานคร</td>\n",
       "      <td>ภาคกลาง</td>\n",
       "      <td>2554</td>\n",
       "    </tr>\n",
       "    <tr>\n",
       "      <th>310</th>\n",
       "      <td>การเกิดมีชีพทั้งหมด</td>\n",
       "      <td>16460.0</td>\n",
       "      <td>สมุทรปราการ</td>\n",
       "      <td>ภาคกลาง</td>\n",
       "      <td>2554</td>\n",
       "    </tr>\n",
       "    <tr>\n",
       "      <th>311</th>\n",
       "      <td>การเกิดในโรงพยาบาล</td>\n",
       "      <td>11942.0</td>\n",
       "      <td>สมุทรปราการ</td>\n",
       "      <td>ภาคกลาง</td>\n",
       "      <td>2554</td>\n",
       "    </tr>\n",
       "    <tr>\n",
       "      <th>312</th>\n",
       "      <td>การเกิดมีชีพทั้งหมด</td>\n",
       "      <td>11367.0</td>\n",
       "      <td>นนทบุรี</td>\n",
       "      <td>ภาคกลาง</td>\n",
       "      <td>2554</td>\n",
       "    </tr>\n",
       "    <tr>\n",
       "      <th>...</th>\n",
       "      <td>...</td>\n",
       "      <td>...</td>\n",
       "      <td>...</td>\n",
       "      <td>...</td>\n",
       "      <td>...</td>\n",
       "    </tr>\n",
       "    <tr>\n",
       "      <th>1535</th>\n",
       "      <td>การเกิดในโรงพยาบาล</td>\n",
       "      <td>10643.0</td>\n",
       "      <td>ปัตตานี</td>\n",
       "      <td>ภาคใต้ชายแดน</td>\n",
       "      <td>2561</td>\n",
       "    </tr>\n",
       "    <tr>\n",
       "      <th>1536</th>\n",
       "      <td>การเกิดมีชีพทั้งหมด</td>\n",
       "      <td>10611.0</td>\n",
       "      <td>ยะลา</td>\n",
       "      <td>ภาคใต้ชายแดน</td>\n",
       "      <td>2561</td>\n",
       "    </tr>\n",
       "    <tr>\n",
       "      <th>1537</th>\n",
       "      <td>การเกิดในโรงพยาบาล</td>\n",
       "      <td>9358.0</td>\n",
       "      <td>ยะลา</td>\n",
       "      <td>ภาคใต้ชายแดน</td>\n",
       "      <td>2561</td>\n",
       "    </tr>\n",
       "    <tr>\n",
       "      <th>1538</th>\n",
       "      <td>การเกิดมีชีพทั้งหมด</td>\n",
       "      <td>12116.0</td>\n",
       "      <td>นราธิวาส</td>\n",
       "      <td>ภาคใต้ชายแดน</td>\n",
       "      <td>2561</td>\n",
       "    </tr>\n",
       "    <tr>\n",
       "      <th>1539</th>\n",
       "      <td>การเกิดในโรงพยาบาล</td>\n",
       "      <td>11949.0</td>\n",
       "      <td>นราธิวาส</td>\n",
       "      <td>ภาคใต้ชายแดน</td>\n",
       "      <td>2561</td>\n",
       "    </tr>\n",
       "  </tbody>\n",
       "</table>\n",
       "<p>1232 rows × 5 columns</p>\n",
       "</div>"
      ],
      "text/plain": [
       "     birth_death_type_desc_th  births_total province_name_th region_name_th  \\\n",
       "308       การเกิดมีชีพทั้งหมด      101019.0    กรุงเทพมหานคร        ภาคกลาง   \n",
       "309        การเกิดในโรงพยาบาล       91432.0    กรุงเทพมหานคร        ภาคกลาง   \n",
       "310       การเกิดมีชีพทั้งหมด       16460.0      สมุทรปราการ        ภาคกลาง   \n",
       "311        การเกิดในโรงพยาบาล       11942.0      สมุทรปราการ        ภาคกลาง   \n",
       "312       การเกิดมีชีพทั้งหมด       11367.0          นนทบุรี        ภาคกลาง   \n",
       "...                       ...           ...              ...            ...   \n",
       "1535       การเกิดในโรงพยาบาล       10643.0          ปัตตานี   ภาคใต้ชายแดน   \n",
       "1536      การเกิดมีชีพทั้งหมด       10611.0             ยะลา   ภาคใต้ชายแดน   \n",
       "1537       การเกิดในโรงพยาบาล        9358.0             ยะลา   ภาคใต้ชายแดน   \n",
       "1538      การเกิดมีชีพทั้งหมด       12116.0         นราธิวาส   ภาคใต้ชายแดน   \n",
       "1539       การเกิดในโรงพยาบาล       11949.0         นราธิวาส   ภาคใต้ชายแดน   \n",
       "\n",
       "      year  \n",
       "308   2554  \n",
       "309   2554  \n",
       "310   2554  \n",
       "311   2554  \n",
       "312   2554  \n",
       "...    ...  \n",
       "1535  2561  \n",
       "1536  2561  \n",
       "1537  2561  \n",
       "1538  2561  \n",
       "1539  2561  \n",
       "\n",
       "[1232 rows x 5 columns]"
      ]
     },
     "metadata": {},
     "output_type": "display_data"
    },
    {
     "name": "stdout",
     "output_type": "stream",
     "text": [
      "completed\n"
     ]
    }
   ],
   "source": [
    "df_LIVE=df_LIVE[(df_LIVE.year>=2554) & (df_LIVE.year <2562)]\n",
    "display(df_LIVE)\n",
    "print('completed')"
   ]
  },
  {
   "cell_type": "code",
   "execution_count": 22,
   "metadata": {},
   "outputs": [
    {
     "data": {
      "text/html": [
       "<div>\n",
       "<style scoped>\n",
       "    .dataframe tbody tr th:only-of-type {\n",
       "        vertical-align: middle;\n",
       "    }\n",
       "\n",
       "    .dataframe tbody tr th {\n",
       "        vertical-align: top;\n",
       "    }\n",
       "\n",
       "    .dataframe thead th {\n",
       "        text-align: right;\n",
       "    }\n",
       "</style>\n",
       "<table border=\"1\" class=\"dataframe\">\n",
       "  <thead>\n",
       "    <tr style=\"text-align: right;\">\n",
       "      <th></th>\n",
       "      <th>birth_death_type_desc_th</th>\n",
       "      <th>deaths_total</th>\n",
       "      <th>province_name_th</th>\n",
       "      <th>region_name_th</th>\n",
       "      <th>year</th>\n",
       "    </tr>\n",
       "  </thead>\n",
       "  <tbody>\n",
       "    <tr>\n",
       "      <th>308</th>\n",
       "      <td>การตายทั้งหมด</td>\n",
       "      <td>37832.0</td>\n",
       "      <td>กรุงเทพมหานคร</td>\n",
       "      <td>ภาคกลาง</td>\n",
       "      <td>2554</td>\n",
       "    </tr>\n",
       "    <tr>\n",
       "      <th>309</th>\n",
       "      <td>การตายในโรงพยาบาล</td>\n",
       "      <td>26793.0</td>\n",
       "      <td>กรุงเทพมหานคร</td>\n",
       "      <td>ภาคกลาง</td>\n",
       "      <td>2554</td>\n",
       "    </tr>\n",
       "    <tr>\n",
       "      <th>310</th>\n",
       "      <td>การตายทั้งหมด</td>\n",
       "      <td>6909.0</td>\n",
       "      <td>สมุทรปราการ</td>\n",
       "      <td>ภาคกลาง</td>\n",
       "      <td>2554</td>\n",
       "    </tr>\n",
       "    <tr>\n",
       "      <th>311</th>\n",
       "      <td>การตายในโรงพยาบาล</td>\n",
       "      <td>4252.0</td>\n",
       "      <td>สมุทรปราการ</td>\n",
       "      <td>ภาคกลาง</td>\n",
       "      <td>2554</td>\n",
       "    </tr>\n",
       "    <tr>\n",
       "      <th>312</th>\n",
       "      <td>การตายทั้งหมด</td>\n",
       "      <td>6206.0</td>\n",
       "      <td>นนทบุรี</td>\n",
       "      <td>ภาคกลาง</td>\n",
       "      <td>2554</td>\n",
       "    </tr>\n",
       "    <tr>\n",
       "      <th>...</th>\n",
       "      <td>...</td>\n",
       "      <td>...</td>\n",
       "      <td>...</td>\n",
       "      <td>...</td>\n",
       "      <td>...</td>\n",
       "    </tr>\n",
       "    <tr>\n",
       "      <th>1535</th>\n",
       "      <td>การตายในโรงพยาบาล</td>\n",
       "      <td>1227.0</td>\n",
       "      <td>ปัตตานี</td>\n",
       "      <td>ภาคใต้ชายแดน</td>\n",
       "      <td>2561</td>\n",
       "    </tr>\n",
       "    <tr>\n",
       "      <th>1536</th>\n",
       "      <td>การตายทั้งหมด</td>\n",
       "      <td>3000.0</td>\n",
       "      <td>ยะลา</td>\n",
       "      <td>ภาคใต้ชายแดน</td>\n",
       "      <td>2561</td>\n",
       "    </tr>\n",
       "    <tr>\n",
       "      <th>1537</th>\n",
       "      <td>การตายในโรงพยาบาล</td>\n",
       "      <td>1124.0</td>\n",
       "      <td>ยะลา</td>\n",
       "      <td>ภาคใต้ชายแดน</td>\n",
       "      <td>2561</td>\n",
       "    </tr>\n",
       "    <tr>\n",
       "      <th>1538</th>\n",
       "      <td>การตายทั้งหมด</td>\n",
       "      <td>4619.0</td>\n",
       "      <td>นราธิวาส</td>\n",
       "      <td>ภาคใต้ชายแดน</td>\n",
       "      <td>2561</td>\n",
       "    </tr>\n",
       "    <tr>\n",
       "      <th>1539</th>\n",
       "      <td>การตายในโรงพยาบาล</td>\n",
       "      <td>1358.0</td>\n",
       "      <td>นราธิวาส</td>\n",
       "      <td>ภาคใต้ชายแดน</td>\n",
       "      <td>2561</td>\n",
       "    </tr>\n",
       "  </tbody>\n",
       "</table>\n",
       "<p>1232 rows × 5 columns</p>\n",
       "</div>"
      ],
      "text/plain": [
       "     birth_death_type_desc_th  deaths_total province_name_th region_name_th  \\\n",
       "308             การตายทั้งหมด       37832.0    กรุงเทพมหานคร        ภาคกลาง   \n",
       "309         การตายในโรงพยาบาล       26793.0    กรุงเทพมหานคร        ภาคกลาง   \n",
       "310             การตายทั้งหมด        6909.0      สมุทรปราการ        ภาคกลาง   \n",
       "311         การตายในโรงพยาบาล        4252.0      สมุทรปราการ        ภาคกลาง   \n",
       "312             การตายทั้งหมด        6206.0          นนทบุรี        ภาคกลาง   \n",
       "...                       ...           ...              ...            ...   \n",
       "1535        การตายในโรงพยาบาล        1227.0          ปัตตานี   ภาคใต้ชายแดน   \n",
       "1536            การตายทั้งหมด        3000.0             ยะลา   ภาคใต้ชายแดน   \n",
       "1537        การตายในโรงพยาบาล        1124.0             ยะลา   ภาคใต้ชายแดน   \n",
       "1538            การตายทั้งหมด        4619.0         นราธิวาส   ภาคใต้ชายแดน   \n",
       "1539        การตายในโรงพยาบาล        1358.0         นราธิวาส   ภาคใต้ชายแดน   \n",
       "\n",
       "      year  \n",
       "308   2554  \n",
       "309   2554  \n",
       "310   2554  \n",
       "311   2554  \n",
       "312   2554  \n",
       "...    ...  \n",
       "1535  2561  \n",
       "1536  2561  \n",
       "1537  2561  \n",
       "1538  2561  \n",
       "1539  2561  \n",
       "\n",
       "[1232 rows x 5 columns]"
      ]
     },
     "metadata": {},
     "output_type": "display_data"
    },
    {
     "name": "stdout",
     "output_type": "stream",
     "text": [
      "completed\n"
     ]
    }
   ],
   "source": [
    "df_DEATHS=df_DEATHS[(df_DEATHS.year>=2554) & (df_DEATHS.year <2562)]\n",
    "display(df_DEATHS)\n",
    "print('completed')"
   ]
  },
  {
   "cell_type": "code",
   "execution_count": 23,
   "metadata": {
    "id": "LU6qvZ9gHS2W",
    "outputId": "33a0a863-3979-484c-8040-2d604d869e01",
    "scrolled": true
   },
   "outputs": [
    {
     "data": {
      "text/html": [
       "<div>\n",
       "<style scoped>\n",
       "    .dataframe tbody tr th:only-of-type {\n",
       "        vertical-align: middle;\n",
       "    }\n",
       "\n",
       "    .dataframe tbody tr th {\n",
       "        vertical-align: top;\n",
       "    }\n",
       "\n",
       "    .dataframe thead th {\n",
       "        text-align: right;\n",
       "    }\n",
       "</style>\n",
       "<table border=\"1\" class=\"dataframe\">\n",
       "  <thead>\n",
       "    <tr style=\"text-align: right;\">\n",
       "      <th></th>\n",
       "      <th>divorce_total</th>\n",
       "      <th>marriage_total</th>\n",
       "    </tr>\n",
       "    <tr>\n",
       "      <th>year</th>\n",
       "      <th></th>\n",
       "      <th></th>\n",
       "    </tr>\n",
       "  </thead>\n",
       "  <tbody>\n",
       "    <tr>\n",
       "      <th>2554</th>\n",
       "      <td>109312.0</td>\n",
       "      <td>308048.0</td>\n",
       "    </tr>\n",
       "    <tr>\n",
       "      <th>2555</th>\n",
       "      <td>111377.0</td>\n",
       "      <td>314338.0</td>\n",
       "    </tr>\n",
       "    <tr>\n",
       "      <th>2556</th>\n",
       "      <td>107031.0</td>\n",
       "      <td>295519.0</td>\n",
       "    </tr>\n",
       "    <tr>\n",
       "      <th>2557</th>\n",
       "      <td>111810.0</td>\n",
       "      <td>296258.0</td>\n",
       "    </tr>\n",
       "    <tr>\n",
       "      <th>2558</th>\n",
       "      <td>117880.0</td>\n",
       "      <td>304392.0</td>\n",
       "    </tr>\n",
       "    <tr>\n",
       "      <th>2559</th>\n",
       "      <td>118539.0</td>\n",
       "      <td>307746.0</td>\n",
       "    </tr>\n",
       "    <tr>\n",
       "      <th>2560</th>\n",
       "      <td>121617.0</td>\n",
       "      <td>297501.0</td>\n",
       "    </tr>\n",
       "    <tr>\n",
       "      <th>2561</th>\n",
       "      <td>144049.0</td>\n",
       "      <td>354221.0</td>\n",
       "    </tr>\n",
       "  </tbody>\n",
       "</table>\n",
       "</div>"
      ],
      "text/plain": [
       "      divorce_total  marriage_total\n",
       "year                               \n",
       "2554       109312.0        308048.0\n",
       "2555       111377.0        314338.0\n",
       "2556       107031.0        295519.0\n",
       "2557       111810.0        296258.0\n",
       "2558       117880.0        304392.0\n",
       "2559       118539.0        307746.0\n",
       "2560       121617.0        297501.0\n",
       "2561       144049.0        354221.0"
      ]
     },
     "execution_count": 23,
     "metadata": {},
     "output_type": "execute_result"
    }
   ],
   "source": [
    "df_Div_Mar=pd.concat([df_DIVORCE.loc[(df_DIVORCE.year>=2554)&(df_DIVORCE.year<=2561)].groupby('year').sum(),\n",
    "                      df_MARRIAGE.loc[(df_MARRIAGE.year>=2554)&(df_MARRIAGE.year<=2561)].groupby('year').sum()]\n",
    "                     ,axis=1)\n",
    "df_Div_Mar"
   ]
  },
  {
   "cell_type": "markdown",
   "metadata": {},
   "source": [
    "## แปลง data type dataframe"
   ]
  },
  {
   "cell_type": "code",
   "execution_count": 24,
   "metadata": {
    "scrolled": true
   },
   "outputs": [
    {
     "name": "stdout",
     "output_type": "stream",
     "text": [
      "<class 'pandas.core.frame.DataFrame'>\n",
      "Int64Index: 616 entries, 77 to 692\n",
      "Data columns (total 4 columns):\n",
      " #   Column            Non-Null Count  Dtype  \n",
      "---  ------            --------------  -----  \n",
      " 0   divorce_total     616 non-null    float64\n",
      " 1   province_name_th  616 non-null    object \n",
      " 2   region_name_th    616 non-null    object \n",
      " 3   year              616 non-null    int64  \n",
      "dtypes: float64(1), int64(1), object(2)\n",
      "memory usage: 24.1+ KB\n",
      "None\n",
      "Success\n"
     ]
    }
   ],
   "source": [
    "print(df_DIVORCE.info())\n",
    "df_DIVORCE.year=df_DIVORCE.year.astype(str)\n",
    "print('Success')"
   ]
  },
  {
   "cell_type": "code",
   "execution_count": 25,
   "metadata": {},
   "outputs": [
    {
     "name": "stdout",
     "output_type": "stream",
     "text": [
      "<class 'pandas.core.frame.DataFrame'>\n",
      "Int64Index: 616 entries, 77 to 692\n",
      "Data columns (total 4 columns):\n",
      " #   Column            Non-Null Count  Dtype  \n",
      "---  ------            --------------  -----  \n",
      " 0   marriage_total    616 non-null    float64\n",
      " 1   province_name_th  616 non-null    object \n",
      " 2   region_name_th    616 non-null    object \n",
      " 3   year              616 non-null    int64  \n",
      "dtypes: float64(1), int64(1), object(2)\n",
      "memory usage: 24.1+ KB\n",
      "Success\n"
     ]
    }
   ],
   "source": [
    "df_MARRIAGE.info()\n",
    "df_MARRIAGE.year=df_MARRIAGE.year.astype(str)\n",
    "print('Success')"
   ]
  },
  {
   "cell_type": "code",
   "execution_count": 26,
   "metadata": {},
   "outputs": [
    {
     "name": "stdout",
     "output_type": "stream",
     "text": [
      "<class 'pandas.core.frame.DataFrame'>\n",
      "Int64Index: 4928 entries, 612 to 5539\n",
      "Data columns (total 6 columns):\n",
      " #   Column             Non-Null Count  Dtype  \n",
      "---  ------             --------------  -----  \n",
      " 0   age_group_desc_th  4928 non-null   object \n",
      " 1   gender_name        4928 non-null   object \n",
      " 2   population_total   4928 non-null   float64\n",
      " 3   province_name_th   4928 non-null   object \n",
      " 4   region_name_th     4928 non-null   object \n",
      " 5   year               4928 non-null   int64  \n",
      "dtypes: float64(1), int64(1), object(4)\n",
      "memory usage: 269.5+ KB\n",
      "Success\n"
     ]
    }
   ],
   "source": [
    "df_AGE_GROUP.info()\n",
    "df_AGE_GROUP.year=df_AGE_GROUP.year.astype(str)\n",
    "print('Success')"
   ]
  },
  {
   "cell_type": "code",
   "execution_count": 27,
   "metadata": {},
   "outputs": [
    {
     "name": "stdout",
     "output_type": "stream",
     "text": [
      "<class 'pandas.core.frame.DataFrame'>\n",
      "Int64Index: 24605 entries, 0 to 24604\n",
      "Data columns (total 6 columns):\n",
      " #   Column             Non-Null Count  Dtype  \n",
      "---  ------             --------------  -----  \n",
      " 0   age_group_desc_th  24605 non-null  object \n",
      " 1   gender_name_th     24605 non-null  object \n",
      " 2   labour_total       24605 non-null  float64\n",
      " 3   province_name_th   24605 non-null  object \n",
      " 4   region_name_th     24605 non-null  object \n",
      " 5   year               24605 non-null  int64  \n",
      "dtypes: float64(1), int64(1), object(4)\n",
      "memory usage: 1.3+ MB\n",
      "Success\n"
     ]
    }
   ],
   "source": [
    "df_INFORMAL_EMPLOYMENT.info()\n",
    "df_INFORMAL_EMPLOYMENT.year=df_INFORMAL_EMPLOYMENT.year.astype(str)\n",
    "print('Success')"
   ]
  },
  {
   "cell_type": "code",
   "execution_count": 28,
   "metadata": {},
   "outputs": [
    {
     "name": "stdout",
     "output_type": "stream",
     "text": [
      "<class 'pandas.core.frame.DataFrame'>\n",
      "Int64Index: 1232 entries, 308 to 1539\n",
      "Data columns (total 5 columns):\n",
      " #   Column                    Non-Null Count  Dtype  \n",
      "---  ------                    --------------  -----  \n",
      " 0   birth_death_type_desc_th  1232 non-null   object \n",
      " 1   births_total              1232 non-null   float64\n",
      " 2   province_name_th          1232 non-null   object \n",
      " 3   region_name_th            1232 non-null   object \n",
      " 4   year                      1232 non-null   int64  \n",
      "dtypes: float64(1), int64(1), object(3)\n",
      "memory usage: 57.8+ KB\n",
      "Success\n"
     ]
    }
   ],
   "source": [
    "df_LIVE.info()\n",
    "df_LIVE.year=df_LIVE.year.astype(str)\n",
    "print('Success')"
   ]
  },
  {
   "cell_type": "code",
   "execution_count": 29,
   "metadata": {},
   "outputs": [
    {
     "name": "stdout",
     "output_type": "stream",
     "text": [
      "<class 'pandas.core.frame.DataFrame'>\n",
      "Int64Index: 1232 entries, 308 to 1539\n",
      "Data columns (total 5 columns):\n",
      " #   Column                    Non-Null Count  Dtype  \n",
      "---  ------                    --------------  -----  \n",
      " 0   birth_death_type_desc_th  1232 non-null   object \n",
      " 1   deaths_total              1232 non-null   float64\n",
      " 2   province_name_th          1232 non-null   object \n",
      " 3   region_name_th            1232 non-null   object \n",
      " 4   year                      1232 non-null   int64  \n",
      "dtypes: float64(1), int64(1), object(3)\n",
      "memory usage: 57.8+ KB\n",
      "Success\n"
     ]
    }
   ],
   "source": [
    "df_DEATHS.info()\n",
    "df_DEATHS.year=df_DEATHS.year.astype(str)\n",
    "print('Success')"
   ]
  },
  {
   "cell_type": "markdown",
   "metadata": {},
   "source": [
    "## คำนวณสถิติสรุป Data frame"
   ]
  },
  {
   "cell_type": "code",
   "execution_count": 74,
   "metadata": {
    "id": "_GxOmBxPHS2Y",
    "outputId": "27e30bdb-766d-4cad-b6d1-b72edefcb72b",
    "scrolled": false
   },
   "outputs": [
    {
     "data": {
      "text/html": [
       "<div>\n",
       "<style scoped>\n",
       "    .dataframe tbody tr th:only-of-type {\n",
       "        vertical-align: middle;\n",
       "    }\n",
       "\n",
       "    .dataframe tbody tr th {\n",
       "        vertical-align: top;\n",
       "    }\n",
       "\n",
       "    .dataframe thead th {\n",
       "        text-align: right;\n",
       "    }\n",
       "</style>\n",
       "<table border=\"1\" class=\"dataframe\">\n",
       "  <thead>\n",
       "    <tr style=\"text-align: right;\">\n",
       "      <th></th>\n",
       "      <th>divorce_total</th>\n",
       "      <th>year</th>\n",
       "      <th>marriage_total</th>\n",
       "      <th>population_total</th>\n",
       "      <th>labour_total</th>\n",
       "      <th>births_total</th>\n",
       "      <th>deaths_total</th>\n",
       "    </tr>\n",
       "  </thead>\n",
       "  <tbody>\n",
       "    <tr>\n",
       "      <th>count</th>\n",
       "      <td>1538.000000</td>\n",
       "      <td>1540.000000</td>\n",
       "      <td>616.000000</td>\n",
       "      <td>4.928000e+03</td>\n",
       "      <td>24605.000000</td>\n",
       "      <td>1232.000000</td>\n",
       "      <td>1232.000000</td>\n",
       "    </tr>\n",
       "    <tr>\n",
       "      <th>mean</th>\n",
       "      <td>1532.654096</td>\n",
       "      <td>2557.500000</td>\n",
       "      <td>4022.764610</td>\n",
       "      <td>2.121374e+05</td>\n",
       "      <td>12562.310709</td>\n",
       "      <td>9038.742695</td>\n",
       "      <td>4143.301136</td>\n",
       "    </tr>\n",
       "    <tr>\n",
       "      <th>std</th>\n",
       "      <td>2198.438594</td>\n",
       "      <td>2.873214</td>\n",
       "      <td>6162.479849</td>\n",
       "      <td>3.283407e+05</td>\n",
       "      <td>19553.343029</td>\n",
       "      <td>10537.412942</td>\n",
       "      <td>4570.525723</td>\n",
       "    </tr>\n",
       "    <tr>\n",
       "      <th>min</th>\n",
       "      <td>134.000000</td>\n",
       "      <td>2553.000000</td>\n",
       "      <td>616.000000</td>\n",
       "      <td>1.234000e+03</td>\n",
       "      <td>0.000000</td>\n",
       "      <td>545.000000</td>\n",
       "      <td>220.000000</td>\n",
       "    </tr>\n",
       "    <tr>\n",
       "      <th>25%</th>\n",
       "      <td>673.000000</td>\n",
       "      <td>2555.000000</td>\n",
       "      <td>1829.500000</td>\n",
       "      <td>3.344350e+04</td>\n",
       "      <td>3718.169500</td>\n",
       "      <td>4039.500000</td>\n",
       "      <td>1602.250000</td>\n",
       "    </tr>\n",
       "    <tr>\n",
       "      <th>50%</th>\n",
       "      <td>1055.000000</td>\n",
       "      <td>2557.500000</td>\n",
       "      <td>2637.500000</td>\n",
       "      <td>1.071690e+05</td>\n",
       "      <td>7694.000000</td>\n",
       "      <td>6836.500000</td>\n",
       "      <td>3074.000000</td>\n",
       "    </tr>\n",
       "    <tr>\n",
       "      <th>75%</th>\n",
       "      <td>1676.000000</td>\n",
       "      <td>2560.000000</td>\n",
       "      <td>4503.250000</td>\n",
       "      <td>2.602460e+05</td>\n",
       "      <td>14956.334400</td>\n",
       "      <td>10480.000000</td>\n",
       "      <td>4808.000000</td>\n",
       "    </tr>\n",
       "    <tr>\n",
       "      <th>max</th>\n",
       "      <td>33568.000000</td>\n",
       "      <td>2562.000000</td>\n",
       "      <td>92570.000000</td>\n",
       "      <td>4.050634e+06</td>\n",
       "      <td>363008.662600</td>\n",
       "      <td>103280.000000</td>\n",
       "      <td>42650.000000</td>\n",
       "    </tr>\n",
       "  </tbody>\n",
       "</table>\n",
       "</div>"
      ],
      "text/plain": [
       "       divorce_total         year  marriage_total  population_total  \\\n",
       "count    1538.000000  1540.000000      616.000000      4.928000e+03   \n",
       "mean     1532.654096  2557.500000     4022.764610      2.121374e+05   \n",
       "std      2198.438594     2.873214     6162.479849      3.283407e+05   \n",
       "min       134.000000  2553.000000      616.000000      1.234000e+03   \n",
       "25%       673.000000  2555.000000     1829.500000      3.344350e+04   \n",
       "50%      1055.000000  2557.500000     2637.500000      1.071690e+05   \n",
       "75%      1676.000000  2560.000000     4503.250000      2.602460e+05   \n",
       "max     33568.000000  2562.000000    92570.000000      4.050634e+06   \n",
       "\n",
       "        labour_total   births_total  deaths_total  \n",
       "count   24605.000000    1232.000000   1232.000000  \n",
       "mean    12562.310709    9038.742695   4143.301136  \n",
       "std     19553.343029   10537.412942   4570.525723  \n",
       "min         0.000000     545.000000    220.000000  \n",
       "25%      3718.169500    4039.500000   1602.250000  \n",
       "50%      7694.000000    6836.500000   3074.000000  \n",
       "75%     14956.334400   10480.000000   4808.000000  \n",
       "max    363008.662600  103280.000000  42650.000000  "
      ]
     },
     "execution_count": 74,
     "metadata": {},
     "output_type": "execute_result"
    }
   ],
   "source": [
    "df_statistics=pd.concat([df_DIVORCE.describe(),df_MARRIAGE.describe(),df_AGE_GROUP.describe(),\n",
    "               df_INFORMAL_EMPLOYMENT.describe(),df_LIVE.describe(),df_DEATHS.describe()],axis=1)#เป็นการรวมตารางข้อมูลสถิติไว้ในตารางเดียว\n",
    "df_statistics"
   ]
  },
  {
   "cell_type": "markdown",
   "metadata": {
    "id": "8LXAmsJNHS2f"
   },
   "source": [
    "# Task 5: วิเคราะห์และสรุปชุดข้อมูลที่ล้างแล้วโดยใช้ตารางและแปลงตามความเหมาะสม จากผลลัพธ์ของคุณการตีความหรือข้อมูลเชิงลึกที่สามารถทำได้เกี่ยวกับชุดข้อมูลนั้น"
   ]
  },
  {
   "cell_type": "markdown",
   "metadata": {},
   "source": [
    "## วิเคราะห์การเเต่งงานกับการหย่าล้างของประชากรในประเทศไทย"
   ]
  },
  {
   "cell_type": "markdown",
   "metadata": {},
   "source": [
    "###  การเปรียบเทียบสัดส่วนการแต่งงานกับการหย่าล้าง\n",
    "-เป็นการplotกราฟข้อมูลโดยนำข้อมูลผลรวมการแต่งงานในแต่ละปีมาทำการเปรียบเทียบสัดส่วนกับผลรวมการหย่าล้างแต่ละปีโดยใช้ pie chart\n",
    "มาใช่ในการแสดงผล"
   ]
  },
  {
   "cell_type": "code",
   "execution_count": 39,
   "metadata": {
    "id": "HrpoG5IJHS2f",
    "outputId": "b6c0825a-32cb-4c2f-8954-6974959bf1ff",
    "scrolled": true
   },
   "outputs": [
    {
     "data": {
      "image/png": "[encoded data removed]",
      "text/plain": [
       "<Figure size 936x360 with 8 Axes>"
      ]
     },
     "metadata": {},
     "output_type": "display_data"
    }
   ],
   "source": [
    "#การจัดเตรียมข้อมูลเพื่อนำไปplot\n",
    "color = ['lightcoral', 'royalblue']\n",
    "text = ['Divorce','Marriage']\n",
    "labels = text\n",
    "#การplotขึ้นมา\n",
    "fig, axs = plt.subplots(2, 4,figsize=(13,5))\n",
    "fig.suptitle('เป็นการเปรียบเทียบสัดส่วนการแต่งงานกับการหย่าล้างในปี 2554-2561',fontsize=20)\n",
    "#เป็นการสร้างloob เงื่อไขในการplot กราฟลงไปในsubplotนั้นๆ\n",
    "x=0\n",
    "y=-1\n",
    "for i in range(len(df_Div_Mar.index)):\n",
    "    if y < 3:\n",
    "        y += 1\n",
    "        axs[x,y].pie(df_Div_Mar.loc[int(df_Div_Mar.index[i]),['divorce_total','marriage_total']]\n",
    "                     ,colors=color,autopct = '%1.1f%%')#เป็นการสร้างpie chart\n",
    "        axs[x, y].set_xlabel(df_Div_Mar.index[i])#เป็นการเขียนกำกลับด้านล่างของแต่ละกราฟว่าเป็นของปีอะไร\n",
    "    elif y>= 3 :\n",
    "        x=1\n",
    "        y=0\n",
    "        axs[x,y].pie(df_Div_Mar.loc[int(df_Div_Mar.index[i]),['divorce_total','marriage_total']]\n",
    "                     ,colors=color,autopct = '%1.1f%%')#เป็นการสร้างpie chart\n",
    "        axs[x, y].set_xlabel(df_Div_Mar.index[i])#เป็นการเขียนกำกลับด้านล่างของแต่ละกราฟว่าเป็นของปีอะไร\n",
    "plt.rcParams['font.family']='tahoma'\n",
    "fig.legend(labels, loc=\"upper right\",fontsize=15)#เป็นการแสดงชื่อของกลุ่มที่ข้อมูลว่าสีแต่ละสีหมายถึงข้อมูลอะไร\n",
    "plt.show()"
   ]
  },
  {
   "cell_type": "markdown",
   "metadata": {},
   "source": [
    "   จากกราฟด้านบนจะบ่งบอกให้รู้ว่าในแต่ละปีที่ผ่านมาตั้งแต่2554 จนถึง 2561 จะเห็นได้ว่าอัตราการแต่งานมีสัดส่วนที่เยอะกว่าการหย่าล้างแต่ในทางกลับกันเราจะเห็นว่ายิ่งเวลาผ่านไปสัดส่วนของการหย่าล้างยิ่งเพิ่มขึ้นแสดงให้เห็นว่าประชากรแต่งงานเร็วเกินไปหรืออาจจะยังไม่ได้มีการเตรียมความพร้อมในการใช้ชีวิตคู่มากพอ"
   ]
  },
  {
   "cell_type": "markdown",
   "metadata": {},
   "source": [
    "### กราฟแสดงการเปลียบเทียบการแต่งงานการหย่างเเต่ละภูมิภาค\n",
    "   -เป็นการplotกราฟที่นำข้อมูลมาจัดกลุ่มตามภูมิภาคต่างแล้วหาผลรวมของแต่งละภูมิภาคนั้นโดยใช้ให้ข้อมูลในส่วนของการหย่าล้างและการแต่งงานมาใช้โดยกราฟที่ใช้จะเป็นกราฟประเภทbar chart"
   ]
  },
  {
   "cell_type": "code",
   "execution_count": 40,
   "metadata": {
    "scrolled": false
   },
   "outputs": [
    {
     "name": "stderr",
     "output_type": "stream",
     "text": [
      "<ipython-input-40-95d82b7bdeba>:19: UserWarning: First parameter to grid() is false, but line properties are supplied. The grid will be enabled.\n",
      "  ax.xaxis.grid(False, color='black')\n"
     ]
    },
    {
     "data": {
      "image/png": "[encoded data removed]",
      "text/plain": [
       "<Figure size 432x288 with 1 Axes>"
      ]
     },
     "metadata": {
      "needs_background": "light"
     },
     "output_type": "display_data"
    }
   ],
   "source": [
    "#เป็นการเตรียมข้อมูล\n",
    "df=df_MARRIAGE.join(df_DIVORCE[['divorce_total']])\n",
    "data=df.groupby('region_name_th').sum()\n",
    "# ทำการplotกราฟ\n",
    "ax = data.plot.barh(fontsize=11)\n",
    "#เป็นการตกแต่งกราฟโดยกำชื่อแกน และtitle\n",
    "ax.set_xlabel('จำนวน', labelpad=20)\n",
    "ax.set_ylabel('ภูมิภาค', labelpad=20)\n",
    "ax.set_title('กราฟแสดงการเปลียบเทียบการแต่งงานการหย่างเเต่ละภูมิภาคใน 8 ปีที่ผ่านมา', pad=15)\n",
    "plt.rcParams['font.family']='tahoma' #เป็นการทำให้การplotยอมรับภาษาไทย\n",
    "# เป็นการกำหนดเส้นสเกลพื้นหลัง\n",
    "ax.spines['top'].set_visible(False)\n",
    "ax.spines['right'].set_visible(False)\n",
    "ax.spines['left'].set_visible(False)\n",
    "ax.spines['bottom'].set_color('#DDDDDD')\n",
    "ax.tick_params(bottom=False, left=False)\n",
    "ax.set_axisbelow(True)\n",
    "ax.yaxis.grid(False)\n",
    "ax.xaxis.grid(False, color='black')\n",
    "plt.show()"
   ]
  },
  {
   "cell_type": "markdown",
   "metadata": {},
   "source": [
    "จากกราฟด้านบนท่ีแสดงจำนวนการหย่าและการแต่งงานของแต่ละภูมิภาคจะเห็นได้ว่าคนภาคกลางมีจำนวนการแต่งงานเป็นอันดับ1และลองลงมาเป็นภาคตะวันออกเฉียงเหนือนแต่ถ้าเราสังเกตุดีๆจะพบว่าการแต่งงานของภาคกลางต่างมากๆเมื่อเทียบกับภาคตะวันออกเฉียงเหนือนแต่การหย่าล้างถาคกลางมีความแตกต่างไม่มากนักกับภาคตะวันออกเฉียงเหนือนทำให้เรารู้ว่าภาคกลางในการตัดสินใจในการที่จะเเต่งานน่าจะต้องมีการเตรียมความพร้อมในการใช้ชีวิตคู่มาก่อนแล้วทำให้เกิดการหย่าที่ไม่เยอะกว่าที่ควรจะเป็นเมื่อเทียบกับจำนวนของการแต่งงาน"
   ]
  },
  {
   "cell_type": "markdown",
   "metadata": {},
   "source": [
    "### แสดงการแนวโน้มของการแต่งงานและการหย่าล้าง\n",
    "   -เป็นการนำข้อมูลผลรวมของทุกปีทางด้านการหย่าล้างและการแต่งงามมาทำการplot Line Chart เพื่อที่จะมาใช้ในการดูแนวโน้ม"
   ]
  },
  {
   "cell_type": "code",
   "execution_count": 41,
   "metadata": {
    "scrolled": false
   },
   "outputs": [
    {
     "data": {
      "image/png": "[encoded data removed]",
      "text/plain": [
       "<Figure size 1080x504 with 1 Axes>"
      ]
     },
     "metadata": {
      "needs_background": "light"
     },
     "output_type": "display_data"
    }
   ],
   "source": [
    "#การเตรียมข้อมูล\n",
    "df=df_MARRIAGE.join(df_DIVORCE[['divorce_total']])\n",
    "fig, ax = plt.subplots(figsize=(15,7))\n",
    "#การplot กราฟ\n",
    "df.groupby('year').sum().plot(ax=ax,fontsize=17)\n",
    "#เป็นการตกแต่งกราฟโดยกำชื่อแกน และtitle\n",
    "ax.set_xlabel('ปี', labelpad=20,fontsize=20)\n",
    "ax.set_ylabel('จำนวน', labelpad=20,fontsize=20)\n",
    "ax.set_title('กราฟแสดงการแนวโน้มของการแต่งงานและการหย่าล้าง', pad=15,fontsize=17)\n",
    "plt.rcParams['font.family']='tahoma' #เป็นการทำให้การplotยอมรับภาษาไทย\n"
   ]
  },
  {
   "cell_type": "markdown",
   "metadata": {},
   "source": [
    "จากกราฟจะแสดงแดงแนวโน้มของการหย่าและการแต่งงานจะทำให้เราเห็นว่ายิ่งเวลาผ่านไปการหย่าและการแต่งงานมีแนวโน้มที่เพิ่มขึ้น"
   ]
  },
  {
   "cell_type": "markdown",
   "metadata": {},
   "source": [
    "## อายุเเรงงานในตลาด"
   ]
  },
  {
   "cell_type": "markdown",
   "metadata": {},
   "source": [
    "### วิเคราะห์แนวโน้มข้อมูลของทุกกลุ่มอายุที่ทำงานในและนอกระบบ\n",
    "   -โดยจะทำการหาผลรวมเเยกของแต่ละกลุ่มช่วงอายุในแต่ละปีและแบ่งแยกเพศออกเป็นชายและหญิงเพื่อมาใช้ในการplot line chart "
   ]
  },
  {
   "cell_type": "code",
   "execution_count": 42,
   "metadata": {
    "scrolled": false
   },
   "outputs": [
    {
     "data": {
      "image/png": "[encoded data removed]",
      "text/plain": [
       "<Figure size 1368x720 with 10 Axes>"
      ]
     },
     "metadata": {
      "needs_background": "light"
     },
     "output_type": "display_data"
    }
   ],
   "source": [
    "#เป็นการplotข้อมูลออกมา\n",
    "fig, axs = plt.subplots(2,5,figsize=(19,10))\n",
    "x=0\n",
    "y= -1\n",
    "for i in df_INFORMAL_EMPLOYMENT['age_group_desc_th'].unique():\n",
    "    if y < 4:\n",
    "        y+=1\n",
    "        axs[x,y].plot(df_INFORMAL_EMPLOYMENT['year'].unique(),\n",
    "             df_INFORMAL_EMPLOYMENT[(df_INFORMAL_EMPLOYMENT['gender_name_th']=='ชาย')&\n",
    "            (df_INFORMAL_EMPLOYMENT['age_group_desc_th']==i)].groupby('year').sum(),color='g' ,label='ชาย')\n",
    "        axs[x,y].plot(df_INFORMAL_EMPLOYMENT['year'].unique(),df_INFORMAL_EMPLOYMENT \\\n",
    "            [(df_INFORMAL_EMPLOYMENT['gender_name_th']=='หญิง')\n",
    "             &(df_INFORMAL_EMPLOYMENT['age_group_desc_th']==i)].groupby('year').sum(),color='b' ,label='หญิง')\n",
    "        axs[x,y].set_xlabel(i, labelpad=10,fontsize=10)\n",
    "        axs[x,y].set_ylabel('จำนวน', labelpad=2,fontsize=10)\n",
    "        axs[x,y].legend()\n",
    "    elif y>=4:\n",
    "        y=0\n",
    "        x+=1\n",
    "        axs[x,y].plot(df_INFORMAL_EMPLOYMENT['year'].unique(),\n",
    "             df_INFORMAL_EMPLOYMENT[(df_INFORMAL_EMPLOYMENT['gender_name_th']=='ชาย')&\n",
    "            (df_INFORMAL_EMPLOYMENT['age_group_desc_th']==i)].groupby('year').sum(),color='g' ,label='ชาย')\n",
    "        axs[x,y].plot(df_INFORMAL_EMPLOYMENT['year'].unique(),df_INFORMAL_EMPLOYMENT \\\n",
    "            [(df_INFORMAL_EMPLOYMENT['gender_name_th']=='หญิง')\n",
    "             &(df_INFORMAL_EMPLOYMENT['age_group_desc_th']==i)].groupby('year').sum(),color='b' ,label='หญิง')\n",
    "        axs[x,y].set_xlabel(i, labelpad=10,fontsize=10)\n",
    "        axs[x,y].set_ylabel('จำนวน', labelpad=2,fontsize=10)\n",
    "        axs[x,y].legend(fontsize=10)\n",
    "\n",
    "#เป็นในส่วนของการตกแต่งและกำหนดชื่อ\n",
    "fig.suptitle('กราฟแสดงแนวโน้มข้อมูลของทุกกลุ่มอายุที่ทำงานในและนอกระบบตั้งแต่ปี 2554-2561',fontsize=20)\n",
    "plt.legend()\n",
    "plt.show()\n",
    "\n",
    "\n"
   ]
  },
  {
   "cell_type": "markdown",
   "metadata": {},
   "source": [
    "จากกราฟด้านบนจะทำให้เราจะเห็นได้ว่าจะมีจำนวนที่มีงานทำเพศชายจะเยอะกว่าเพศหญิงและแนวโน้มของช่วงอายุตั้งแต่50ปีขึ้นไปมีแนวโน้มที่เพิ่มมากขึ้นอย่างมากเมื่อเทียบกับกลุ่มอายุกลุ่มอื่นแสดงให้เราเห็นถึงว่าประชากรในประเทศไทยเริ่มจะมีคนที่ทำงานอยู่ที่อายุ50ปีขึ้นไปมากยิ่งขึ้น"
   ]
  },
  {
   "cell_type": "markdown",
   "metadata": {},
   "source": [
    "### สัดสวนของคนที่ทำงานในแต่ละช่วงอายุ\n",
    "-ในการplotกราฟจะใช้การแบ่งกลุ่มโดยจะแบ่งตามช่วงอายุของคนที่ทำงานโดยจะมาใช้ในการเปรียบเทียบหาว่าในแต่ละช่วงอายุมีสัดส่วนเป็นอย่างไร"
   ]
  },
  {
   "cell_type": "code",
   "execution_count": 43,
   "metadata": {
    "scrolled": false
   },
   "outputs": [
    {
     "name": "stderr",
     "output_type": "stream",
     "text": [
      "<ipython-input-43-8c5b5f049073>:4: MatplotlibDeprecationWarning: Non-1D inputs to pie() are currently squeeze()d, but this behavior is deprecated since 3.1 and will be removed in 3.3; pass a 1D array instead.\n",
      "  ax1.pie(data,labels=data.index,autopct='%1.1f%%',shadow=True, startangle=90)\n"
     ]
    },
    {
     "data": {
      "image/png": "[encoded data removed]",
      "text/plain": [
       "<Figure size 1080x720 with 1 Axes>"
      ]
     },
     "metadata": {},
     "output_type": "display_data"
    }
   ],
   "source": [
    "# การเตรียมข้อมูลและการplot\n",
    "fig1, ax1 = plt.subplots(figsize=(15, 10), subplot_kw=dict(aspect=\"equal\"))\n",
    "data =df_INFORMAL_EMPLOYMENT.groupby('age_group_desc_th').sum()\n",
    "ax1.pie(data,labels=data.index,autopct='%1.1f%%',shadow=True, startangle=90)\n",
    "# เป็นการตกแต่งกราฟโดยกำหนดชื่อแกน x และy และแสดงชื่อกลุ่ม\n",
    "ax1.legend(fontsize=15)\n",
    "plt.rcParams['font.family']='tahoma'\n",
    "ax1.set_title(\"กราฟแสดงสัดสวนของคนที่ทำงานในแต่ละช่วงอายุ\",pad=20,fontsize=17)\n",
    "ax1.axis('equal')\n",
    "plt.show()"
   ]
  },
  {
   "cell_type": "markdown",
   "metadata": {},
   "source": [
    "เมื่อเปรียบเทียบดูจากสัดส่วนผู้สูงอายุจะเห็นได้ว่าตอนนี้กลุ่มอายุของผู้ที่ทำงานจะอยู่ในช่วงของวัยกลางคนโดยมีแนวโน้มเปลี่ยนเป็นผู้สูงอายุมากขึ้นโดยช่วงวัยจะมีเกณฑ์แบ่งตามนี้\n",
    "\n",
    "1 วัยเด็ก 0-18\n",
    "\n",
    "2 วัยผู้ใหญ่ตอนต้นหรือวัยฉกรรจ์ 18-35\n",
    "\n",
    "3 วัยผู้ใหญ่ตอนกลางหรือวัยกลางคน 35-60\n",
    "\n",
    "4 วัยผู้ใหญ่ตอนปลายหรือวัยชรา 60 ขึ้นไป\n",
    "\n",
    "โดยที่นำเกณฑ์มาจากเว็บ https://sites.google.com/site/karceriyteibtokhxngmnusy/home/kar-ceriy-teibto-laea-phathnakar-khxng-phuhiy"
   ]
  },
  {
   "cell_type": "markdown",
   "metadata": {},
   "source": [
    "## การวิเคราะห์การเกิดการตาย"
   ]
  },
  {
   "cell_type": "markdown",
   "metadata": {},
   "source": [
    "### การเปรียบเทียบจำนวนการตายกับการเกิดในแต่ละปี\n",
    "-โดยจะทำการหาผลรวมในเเต่ละปีว่ามีการเกิดและการตายเท่าไร มาทำการplot bar chart เปรียบเทียบคู่กันในแต่ละปี"
   ]
  },
  {
   "cell_type": "code",
   "execution_count": 44,
   "metadata": {
    "id": "Dka7GCbwHS2j",
    "outputId": "b49e6d01-dc0b-401f-c125-bc90beb77887",
    "scrolled": false
   },
   "outputs": [
    {
     "data": {
      "image/png": "[encoded data removed]",
      "text/plain": [
       "<Figure size 720x720 with 1 Axes>"
      ]
     },
     "metadata": {
      "needs_background": "light"
     },
     "output_type": "display_data"
    }
   ],
   "source": [
    "# การเตรียมข้อมูล\n",
    "x=np.arange(len(df_DEATHS.year.unique()))\n",
    "fig, ax = plt.subplots(figsize=(10,10))\n",
    "bar_width = 0.4\n",
    "#เป็นการplotข้อมูลโดยที่plotเหมือนกันทั้งสองอันแต่อันที่สองมีการขยับตำแห่งแกนให้เลื่อนไปอยู่ข้างแกนแรก\n",
    "b1 = ax.bar(x,df_DEATHS.groupby('year').deaths_total.sum(),width=bar_width, label='deaths')\n",
    "b2 = ax.bar(x + bar_width, df_LIVE.groupby('year').births_total.sum(), width=bar_width, label='births')\n",
    "\n",
    "# เป็นการfixตำแหน่งของกราฟและกำหนดชื่อกลุ่มลงไปในแกรนx\n",
    "ax.set_xticks(x + bar_width / 2)\n",
    "ax.set_xticklabels(df_DEATHS.year.unique())\n",
    "\n",
    "# เป็นการแสดงชื่อกลุ่ม\n",
    "ax.legend(fontsize=16)\n",
    "\n",
    "# # Axis styling.\n",
    "ax.spines['top'].set_visible(False)\n",
    "ax.spines['right'].set_visible(False)\n",
    "ax.spines['left'].set_visible(False)\n",
    "ax.spines['bottom'].set_color('#DDDDDD')\n",
    "ax.tick_params(bottom=False, left=False)\n",
    "ax.set_axisbelow(True)\n",
    "ax.yaxis.grid(True, color='black')\n",
    "ax.xaxis.grid(False)\n",
    "\n",
    "# เป็นการเพิ่มชื่อแกนแต่ละอันเข้าไปและกำหนดtitle\n",
    "ax.set_xlabel('year', labelpad=15,fontsize=20)\n",
    "ax.set_ylabel('amount', labelpad=15,fontsize=20)\n",
    "ax.set_title('เป็นการเปรียบเทียบจำนวนการตายกับการเกิดในแต่ละปี', pad=15,fontsize=20)\n",
    "\n",
    "fig.tight_layout()\n",
    "# df_DEATHS.region_name_th.unique()"
   ]
  },
  {
   "cell_type": "markdown",
   "metadata": {},
   "source": [
    "จากกราฟเราจะได้ว่าในแต่ละปีจะมีการเกิดและมีการต่ายเท่าไรโดยเราจะเห็นได้เลยว่าในแต่ละปีจะมีจำนวนการเกิดมากกว่าการตายโดยที่เราจะสังเกตุเห็นได้ว่าการเกิดมีจำนวนที่ลดลงแต่การตายมีจำนวนที่เพิ่มมากขึ้น"
   ]
  },
  {
   "cell_type": "markdown",
   "metadata": {},
   "source": [
    "### การเปรียบเทียบสัดส่วนการเกิดในแต่ละปี"
   ]
  },
  {
   "cell_type": "code",
   "execution_count": 45,
   "metadata": {
    "scrolled": false
   },
   "outputs": [
    {
     "name": "stderr",
     "output_type": "stream",
     "text": [
      "<ipython-input-45-7cbbfc8df889>:7: MatplotlibDeprecationWarning: Non-1D inputs to pie() are currently squeeze()d, but this behavior is deprecated since 3.1 and will be removed in 3.3; pass a 1D array instead.\n",
      "  axs.pie(marriage_born,labels=marriage_born.index,autopct='%1.1f%%',shadow=True, startangle=90)\n"
     ]
    },
    {
     "data": {
      "image/png": "[encoded data removed]",
      "text/plain": [
       "<Figure size 936x360 with 1 Axes>"
      ]
     },
     "metadata": {},
     "output_type": "display_data"
    }
   ],
   "source": [
    "#การจัดเตรียมข้อมูลเพื่อนำไปplot\n",
    "color = ['lightcoral', 'royalblue']\n",
    "marriage_born=df_LIVE.groupby('year').sum()\n",
    "#การplotขึ้นมา\n",
    "fig, axs = plt.subplots(figsize=(13,5))\n",
    "fig.suptitle('เป็นการเปรียบเทียบสัดส่วนการเกิดในแต่ละปีตั้งแต่ปี2554-2561',fontsize=20)\n",
    "axs.pie(marriage_born,labels=marriage_born.index,autopct='%1.1f%%',shadow=True, startangle=90)\n",
    "fig.legend(marriage_born.index, loc=\"upper right\",fontsize=15)#เป็นการแสดงชื่อของกลุ่มที่ข้อมูลว่าสีแต่ละสีหมายถึงข้อมูลอะไร\n",
    "plt.show()"
   ]
  },
  {
   "cell_type": "markdown",
   "metadata": {},
   "source": [
    "จากกราฟเราจะเห็นได้ว่าในแต่ละปีจะมีการอัตราการเกิดที่ลดลงอย่างเห็นได้ชัดเจน"
   ]
  },
  {
   "cell_type": "markdown",
   "metadata": {},
   "source": [
    "## การวิเคราะห์ประชากรทั้งหมด"
   ]
  },
  {
   "cell_type": "code",
   "execution_count": 46,
   "metadata": {
    "scrolled": false
   },
   "outputs": [
    {
     "data": {
      "image/png": "[encoded data removed]",
      "text/plain": [
       "<Figure size 1080x720 with 1 Axes>"
      ]
     },
     "metadata": {
      "needs_background": "light"
     },
     "output_type": "display_data"
    }
   ],
   "source": [
    "# การเตรียมข้อมูล\n",
    "width = 0.35    # ความกว้างของแท่ง\n",
    "fig, ax = plt.subplots(figsize=(15, 10))\n",
    "x=df_AGE_GROUP.year.unique()\n",
    "y1=df_AGE_GROUP.loc[df_AGE_GROUP.age_group_desc_th!='วัยเด็ก (0-14 ปี)'].groupby('year').sum().population_total\n",
    "y2=df_INFORMAL_EMPLOYMENT.groupby('year').sum().labour_total\n",
    "#เป็นการplotกราฟ\n",
    "ax.bar(x,y1,width, label='AGE_GROUP')\n",
    "ax.bar(x, y2, width,label='INFORMAL_EMPLOYMENT')\n",
    "# เป็นการกำหนดtitleและชื่อแกนyลงไป\n",
    "ax.set_ylabel('จำนวน')\n",
    "ax.set_title('เป็นการเทียบสัดสวนของประชากรที่มีงานทำกับประชากรทั้งหมดปี2554-2561')\n",
    "# Axis styling.\n",
    "ax.spines['top'].set_visible(False)\n",
    "ax.spines['right'].set_visible(False)\n",
    "ax.spines['left'].set_visible(False)\n",
    "ax.spines['bottom'].set_color('#DDDDDD')\n",
    "ax.tick_params(bottom=False, left=False)\n",
    "ax.set_axisbelow(True)\n",
    "ax.yaxis.grid(True, color='black')\n",
    "ax.xaxis.grid(False)\n",
    "# เป็นการแสดงชื่อกลุ่ม\n",
    "ax.legend()\n",
    "plt.show()"
   ]
  },
  {
   "cell_type": "markdown",
   "metadata": {},
   "source": [
    "จากกราฟจะแสดงให้เราเห็นว่าประชากรในประเทศมีจำนวนมากยิ่งขึ้นแต่ในส่วนของประชากรที่ทำงานนั้นมีสัดส่วนลดลงเล็กน้อยเมื่อเทียบกับปีก่อนๆโดยการเปรียบเทียบแบบนี้อาจจะยังไม่สามารถสรุปได้แน่นชัดเพราะว่าข้อมูลในส่วนประชากรที่เก็บจะเป็นช่วงกว่างสามช่วงคือ (15-59), (60ขึ้นไป) และ (ระบุบไม่ได้)\n",
    "โดยที่ในส่วนของช่วง15-22 อาจจะยังไม่ทำงานก็เป็นได้เพราะยังอยู่ในช่วงเรียนหนังสือทำให้จำนวนประชากรที่ว่างงานมีมากจนเกินไป"
   ]
  },
  {
   "cell_type": "markdown",
   "metadata": {
    "id": "nKOKhzzfHS2o"
   },
   "source": [
    "## Summary"
   ]
  },
  {
   "cell_type": "markdown",
   "metadata": {},
   "source": [
    "ข้อสรุปที่ได้จากการวิเคราะห์กลุ่มประชากรภายในประเทศโดยจากที่ทำการวิเคราะห์ในแต่ละหัวข้อผลลัพธ์ที่ได้จะได้ดังนี้\n",
    "\n",
    "* ในส่วนของการสมรสจะเห็นว่าอัตราการหย่าล้างเพิ่มมากยิ่งขึ้นทำให้เรารับรู้ได้ว่าอาจจะเกิดการแต่งงานที่ตัดสินใจเร็วจนเกินไปหรืออาจจะอยู่ที่ความพร้อมของคู่นั้นว่าอาจจะยังไม่มีความพร้อมที่มาเพียงพอจนทำให้เกิดการหย่าล้างเกิดขึ้น\n",
    "\n",
    "* ในส่วนของประชากรที่ทำงานทั้งในและนอกระบบตอนนี้เริ่มเข้าสู่ช่วงอายุของวัยกลางคนโดยเป็นช่วงระหว่าง(35-59)และอาจจะมีแนวโน้มเป็นสังคมผู้สูงอายุก็เป็นได้และสิ่งที่ทำให้เราเห็นอีกส่วนของสังคมการทำงานในไทยจะเห็นได้ว่าเพศชายจะยังมีจำนวนคนที่ทำงานมากว่าในส่วนของผู้หญิง \n",
    "\n",
    "* ในส่วนของการเกิดการตายในประเทศไทยเราจะเห็นว่าจำนวนการต่ายมีเเนวโน้มเพิ่มมากยิ่งขึ้นเมื่อเวลาผ่านไปนานเข้าแต่อัตราการเกิดกับลดตำ่ลงซึ่งสวนทางกับอัตราการแต่งงานที่มีแนวโน้มมากยิ่งขึ้นทำให้รู้ว่าประชากรไทยนิยมมีลูกน้อยลงเป็นครอบครัวขนาดเล็กสะส่วนใหญ่\n",
    "\n",
    "* ส่วนสุดท้ายคือในส่วนของคนว่างงานคือในส่วนนี้อาจจะยังไม่สามารถสรุปได้เเน่ชัดเป็นเพราะว่าการยังมีบางช่วงอายุที่เก็บยังคงต่องมีการเรียนอยู่เลยทำให้งานส่วนใหญ่ยังไม่ถึงเกณฑ์ที่จะเข้าทำงานได้ทำให้มีจำนวนคนที่ว่างงานเป็นจำนวนมาก"
   ]
  }
 ],
 "metadata": {
  "colab": {
   "collapsed_sections": [
    "3jpXVSLTHS2q"
   ],
   "name": "project.ipynb",
   "provenance": []
  },
  "kernelspec": {
   "display_name": "Python 3",
   "language": "python",
   "name": "python3"
  },
  "language_info": {
   "codemirror_mode": {
    "name": "ipython",
    "version": 3
   },
   "file_extension": ".py",
   "mimetype": "text/x-python",
   "name": "python",
   "nbconvert_exporter": "python",
   "pygments_lexer": "ipython3",
   "version": "3.8.3"
  }
 },
 "nbformat": 4,
 "nbformat_minor": 1
}
